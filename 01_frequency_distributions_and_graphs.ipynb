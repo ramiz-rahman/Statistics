{
 "cells": [
  {
   "cell_type": "markdown",
   "metadata": {},
   "source": [
    "# 01: Frequency Distributions and Graphs"
   ]
  },
  {
   "cell_type": "code",
   "execution_count": 268,
   "metadata": {},
   "outputs": [],
   "source": [
    "import pandas as pd\n",
    "import numpy as np\n",
    "import seaborn as sns\n",
    "import matplotlib as mpl\n",
    "import matplotlib.pyplot as plt \n",
    "import math \n",
    "\n",
    "\n",
    "%matplotlib inline"
   ]
  },
  {
   "cell_type": "markdown",
   "metadata": {},
   "source": [
    "A frequency distribution helps us to detect any pattern in the data, assuming that a pattern exists. \n",
    "\n"
   ]
  },
  {
   "cell_type": "markdown",
   "metadata": {},
   "source": [
    "### Working Example \n",
    "\n",
    "Given a list of movie ratings, let's build a frequency distribution"
   ]
  },
  {
   "cell_type": "code",
   "execution_count": 2,
   "metadata": {},
   "outputs": [],
   "source": [
    "ratings = [3, 7, 2, 7, 8, 3, 1, 4, 10, 3, 2, 5, 3, 5, 8, 9, 7, 6, 3, 7, 8, 9, 7, 3, 6]"
   ]
  },
  {
   "cell_type": "code",
   "execution_count": 3,
   "metadata": {},
   "outputs": [],
   "source": [
    "# Transform the list into a Pandas Series for easier manipulation \n",
    "obs = pd.Series(ratings)"
   ]
  },
  {
   "cell_type": "code",
   "execution_count": 4,
   "metadata": {},
   "outputs": [],
   "source": [
    "# Build a frequency distribution\n",
    "freq = obs.value_counts().sort_index(ascending=False).to_frame('f').rename_axis('rating')"
   ]
  },
  {
   "cell_type": "code",
   "execution_count": 5,
   "metadata": {},
   "outputs": [
    {
     "data": {
      "text/html": [
       "<div>\n",
       "<style scoped>\n",
       "    .dataframe tbody tr th:only-of-type {\n",
       "        vertical-align: middle;\n",
       "    }\n",
       "\n",
       "    .dataframe tbody tr th {\n",
       "        vertical-align: top;\n",
       "    }\n",
       "\n",
       "    .dataframe thead th {\n",
       "        text-align: right;\n",
       "    }\n",
       "</style>\n",
       "<table border=\"1\" class=\"dataframe\">\n",
       "  <thead>\n",
       "    <tr style=\"text-align: right;\">\n",
       "      <th></th>\n",
       "      <th>f</th>\n",
       "    </tr>\n",
       "    <tr>\n",
       "      <th>rating</th>\n",
       "      <th></th>\n",
       "    </tr>\n",
       "  </thead>\n",
       "  <tbody>\n",
       "    <tr>\n",
       "      <th>10</th>\n",
       "      <td>1</td>\n",
       "    </tr>\n",
       "    <tr>\n",
       "      <th>9</th>\n",
       "      <td>2</td>\n",
       "    </tr>\n",
       "    <tr>\n",
       "      <th>8</th>\n",
       "      <td>3</td>\n",
       "    </tr>\n",
       "    <tr>\n",
       "      <th>7</th>\n",
       "      <td>5</td>\n",
       "    </tr>\n",
       "    <tr>\n",
       "      <th>6</th>\n",
       "      <td>2</td>\n",
       "    </tr>\n",
       "    <tr>\n",
       "      <th>5</th>\n",
       "      <td>2</td>\n",
       "    </tr>\n",
       "    <tr>\n",
       "      <th>4</th>\n",
       "      <td>1</td>\n",
       "    </tr>\n",
       "    <tr>\n",
       "      <th>3</th>\n",
       "      <td>6</td>\n",
       "    </tr>\n",
       "    <tr>\n",
       "      <th>2</th>\n",
       "      <td>2</td>\n",
       "    </tr>\n",
       "    <tr>\n",
       "      <th>1</th>\n",
       "      <td>1</td>\n",
       "    </tr>\n",
       "  </tbody>\n",
       "</table>\n",
       "</div>"
      ],
      "text/plain": [
       "        f\n",
       "rating   \n",
       "10      1\n",
       "9       2\n",
       "8       3\n",
       "7       5\n",
       "6       2\n",
       "5       2\n",
       "4       1\n",
       "3       6\n",
       "2       2\n",
       "1       1"
      ]
     },
     "execution_count": 5,
     "metadata": {},
     "output_type": "execute_result"
    }
   ],
   "source": [
    "freq               "
   ]
  },
  {
   "cell_type": "markdown",
   "metadata": {},
   "source": [
    "## Rules for Creating Frequency Distributions \n",
    "\n",
    "1. Each observation should be included in one, and only one, class. \n",
    "2. List all classes, even those with zero frequencies. \n",
    "3. All classes should have equal intervals \n",
    "4. All classes should have both an upper boundary and a lower boundary \n",
    "5. Select the class interval from convenient numbers, such as 1,2,3, ... 10, particularly 5 and 10 or multiples of 5 and 10. \n",
    "6. The lower boundary of each class interval should be a multiple of the class interval. \n",
    "7. Aim for a total of approximately 10 classes"
   ]
  },
  {
   "cell_type": "markdown",
   "metadata": {},
   "source": [
    "#### Example Dataset: IQ scores of students in a class\n",
    "\n",
    "We will be using the following dataset to explain the process of creating a frequency distribution. "
   ]
  },
  {
   "cell_type": "code",
   "execution_count": 6,
   "metadata": {},
   "outputs": [],
   "source": [
    "iq_scores = [91, 85, 84, 79, 80,\n",
    "87, 96, 75, 86, 104,\n",
    "95, 71, 105, 90, 77,\n",
    "123, 80, 100, 93, 108,\n",
    "98, 69, 99, 95, 90,\n",
    "110, 109, 94, 100, 103,\n",
    "112, 90, 90, 98, 89]"
   ]
  },
  {
   "cell_type": "code",
   "execution_count": 7,
   "metadata": {},
   "outputs": [],
   "source": [
    "iq = pd.Series(iq_scores)"
   ]
  },
  {
   "cell_type": "code",
   "execution_count": 8,
   "metadata": {},
   "outputs": [
    {
     "data": {
      "text/plain": [
       "0    91\n",
       "1    85\n",
       "2    84\n",
       "3    79\n",
       "4    80\n",
       "dtype: int64"
      ]
     },
     "execution_count": 8,
     "metadata": {},
     "output_type": "execute_result"
    }
   ],
   "source": [
    "iq.head()"
   ]
  },
  {
   "cell_type": "markdown",
   "metadata": {},
   "source": [
    "### 3 Stage Process of Creating a Frequency Distribution "
   ]
  },
  {
   "cell_type": "markdown",
   "metadata": {},
   "source": [
    "#### Stage 1: Creating the bins "
   ]
  },
  {
   "cell_type": "code",
   "execution_count": 9,
   "metadata": {},
   "outputs": [
    {
     "data": {
      "text/plain": [
       "69"
      ]
     },
     "execution_count": 9,
     "metadata": {},
     "output_type": "execute_result"
    }
   ],
   "source": [
    "### 1.0.1 Identify the lowest value\n",
    "lowest = iq.min()\n",
    "\n",
    "lowest"
   ]
  },
  {
   "cell_type": "code",
   "execution_count": 10,
   "metadata": {},
   "outputs": [
    {
     "data": {
      "text/plain": [
       "123"
      ]
     },
     "execution_count": 10,
     "metadata": {},
     "output_type": "execute_result"
    }
   ],
   "source": [
    "### 1.0.2 Identify the highest value\n",
    "highest = iq.max()\n",
    "\n",
    "highest"
   ]
  },
  {
   "cell_type": "code",
   "execution_count": 11,
   "metadata": {},
   "outputs": [
    {
     "data": {
      "text/plain": [
       "54"
      ]
     },
     "execution_count": 11,
     "metadata": {},
     "output_type": "execute_result"
    }
   ],
   "source": [
    "### 1.1 Identify the range \n",
    "range = highest - lowest\n",
    "\n",
    "range"
   ]
  },
  {
   "cell_type": "code",
   "execution_count": 12,
   "metadata": {},
   "outputs": [
    {
     "data": {
      "text/plain": [
       "5.4"
      ]
     },
     "execution_count": 12,
     "metadata": {},
     "output_type": "execute_result"
    }
   ],
   "source": [
    "### 1.2.1 Select desired number of classes \n",
    "num_bins = 10 \n",
    "\n",
    "### 1.2 Find the class interval required to span the range\n",
    "interval = range / num_bins\n",
    "\n",
    "interval"
   ]
  },
  {
   "cell_type": "code",
   "execution_count": 13,
   "metadata": {},
   "outputs": [
    {
     "data": {
      "text/plain": [
       "5"
      ]
     },
     "execution_count": 13,
     "metadata": {},
     "output_type": "execute_result"
    }
   ],
   "source": [
    "### 1.3 Round off to the nearest convenient interval \n",
    "interval = round(interval)\n",
    "\n",
    "interval"
   ]
  },
  {
   "cell_type": "code",
   "execution_count": 14,
   "metadata": {},
   "outputs": [
    {
     "data": {
      "text/plain": [
       "65"
      ]
     },
     "execution_count": 14,
     "metadata": {},
     "output_type": "execute_result"
    }
   ],
   "source": [
    "### 1.4 Determine where the lowest class should begin\n",
    "\n",
    "# Lower bound (rounded down to nearest convenient interval)\n",
    "\n",
    "lower_bound = math.floor(lowest/interval)*interval\n",
    "\n",
    "lower_bound"
   ]
  },
  {
   "cell_type": "code",
   "execution_count": 15,
   "metadata": {},
   "outputs": [
    {
     "data": {
      "text/plain": [
       "125"
      ]
     },
     "execution_count": 15,
     "metadata": {},
     "output_type": "execute_result"
    }
   ],
   "source": [
    "### 1.5 Determine where the highest class should begin\n",
    "upper_bound = math.ceil(highest/interval)*interval\n",
    "\n",
    "upper_bound"
   ]
  },
  {
   "cell_type": "code",
   "execution_count": 16,
   "metadata": {},
   "outputs": [
    {
     "data": {
      "text/plain": [
       "IntervalIndex([[65, 70), [70, 75), [75, 80), [80, 85), [85, 90) ... [100, 105), [105, 110), [110, 115), [115, 120), [120, 125)], dtype='interval[int64, left]')"
      ]
     },
     "execution_count": 16,
     "metadata": {},
     "output_type": "execute_result"
    }
   ],
   "source": [
    "### 1.6 Create the bins \n",
    "bins = pd.interval_range(start=lower_bound, end=upper_bound, freq=interval, closed='left')\n",
    "\n",
    "bins"
   ]
  },
  {
   "cell_type": "markdown",
   "metadata": {},
   "source": [
    "#### Stage 2 Map values to bins\n"
   ]
  },
  {
   "cell_type": "code",
   "execution_count": 17,
   "metadata": {},
   "outputs": [
    {
     "data": {
      "text/plain": [
       "0    [90, 95)\n",
       "1    [85, 90)\n",
       "2    [80, 85)\n",
       "3    [75, 80)\n",
       "4    [80, 85)\n",
       "dtype: category\n",
       "Categories (12, interval[int64, left]): [[65, 70) < [70, 75) < [75, 80) < [80, 85) ... [105, 110) < [110, 115) < [115, 120) < [120, 125)]"
      ]
     },
     "execution_count": 17,
     "metadata": {},
     "output_type": "execute_result"
    }
   ],
   "source": [
    "mapped = pd.cut(iq, bins=bins)\n",
    "\n",
    "mapped.head()"
   ]
  },
  {
   "cell_type": "markdown",
   "metadata": {},
   "source": [
    "#### Stage 3: Count the frequency of each bin "
   ]
  },
  {
   "cell_type": "code",
   "execution_count": 18,
   "metadata": {},
   "outputs": [
    {
     "data": {
      "text/plain": [
       "[65, 70)      1\n",
       "[70, 75)      1\n",
       "[75, 80)      3\n",
       "[80, 85)      3\n",
       "[85, 90)      4\n",
       "[90, 95)      7\n",
       "[95, 100)     6\n",
       "[100, 105)    4\n",
       "[105, 110)    3\n",
       "[110, 115)    2\n",
       "[115, 120)    0\n",
       "[120, 125)    1\n",
       "dtype: int64"
      ]
     },
     "execution_count": 18,
     "metadata": {},
     "output_type": "execute_result"
    }
   ],
   "source": [
    "## Mimic the SQL style with Group By\n",
    "# f = mapped.groupby(by=mapped, sort=False).count()\n",
    "\n",
    "# Using Value Counts \n",
    "f = mapped.value_counts(sort=False)\n",
    "\n",
    "f"
   ]
  },
  {
   "cell_type": "markdown",
   "metadata": {},
   "source": [
    "#### (Optional) Stage 4: Supply headings and title "
   ]
  },
  {
   "cell_type": "code",
   "execution_count": 19,
   "metadata": {},
   "outputs": [],
   "source": [
    "f = f.to_frame('f').rename_axis('IQ Score')"
   ]
  },
  {
   "cell_type": "code",
   "execution_count": 20,
   "metadata": {},
   "outputs": [
    {
     "data": {
      "text/html": [
       "<div>\n",
       "<style scoped>\n",
       "    .dataframe tbody tr th:only-of-type {\n",
       "        vertical-align: middle;\n",
       "    }\n",
       "\n",
       "    .dataframe tbody tr th {\n",
       "        vertical-align: top;\n",
       "    }\n",
       "\n",
       "    .dataframe thead th {\n",
       "        text-align: right;\n",
       "    }\n",
       "</style>\n",
       "<table border=\"1\" class=\"dataframe\">\n",
       "  <thead>\n",
       "    <tr style=\"text-align: right;\">\n",
       "      <th></th>\n",
       "      <th>f</th>\n",
       "    </tr>\n",
       "    <tr>\n",
       "      <th>IQ Score</th>\n",
       "      <th></th>\n",
       "    </tr>\n",
       "  </thead>\n",
       "  <tbody>\n",
       "    <tr>\n",
       "      <th>[65, 70)</th>\n",
       "      <td>1</td>\n",
       "    </tr>\n",
       "    <tr>\n",
       "      <th>[70, 75)</th>\n",
       "      <td>1</td>\n",
       "    </tr>\n",
       "    <tr>\n",
       "      <th>[75, 80)</th>\n",
       "      <td>3</td>\n",
       "    </tr>\n",
       "    <tr>\n",
       "      <th>[80, 85)</th>\n",
       "      <td>3</td>\n",
       "    </tr>\n",
       "    <tr>\n",
       "      <th>[85, 90)</th>\n",
       "      <td>4</td>\n",
       "    </tr>\n",
       "    <tr>\n",
       "      <th>[90, 95)</th>\n",
       "      <td>7</td>\n",
       "    </tr>\n",
       "    <tr>\n",
       "      <th>[95, 100)</th>\n",
       "      <td>6</td>\n",
       "    </tr>\n",
       "    <tr>\n",
       "      <th>[100, 105)</th>\n",
       "      <td>4</td>\n",
       "    </tr>\n",
       "    <tr>\n",
       "      <th>[105, 110)</th>\n",
       "      <td>3</td>\n",
       "    </tr>\n",
       "    <tr>\n",
       "      <th>[110, 115)</th>\n",
       "      <td>2</td>\n",
       "    </tr>\n",
       "    <tr>\n",
       "      <th>[115, 120)</th>\n",
       "      <td>0</td>\n",
       "    </tr>\n",
       "    <tr>\n",
       "      <th>[120, 125)</th>\n",
       "      <td>1</td>\n",
       "    </tr>\n",
       "  </tbody>\n",
       "</table>\n",
       "</div>"
      ],
      "text/plain": [
       "            f\n",
       "IQ Score     \n",
       "[65, 70)    1\n",
       "[70, 75)    1\n",
       "[75, 80)    3\n",
       "[80, 85)    3\n",
       "[85, 90)    4\n",
       "[90, 95)    7\n",
       "[95, 100)   6\n",
       "[100, 105)  4\n",
       "[105, 110)  3\n",
       "[110, 115)  2\n",
       "[115, 120)  0\n",
       "[120, 125)  1"
      ]
     },
     "execution_count": 20,
     "metadata": {},
     "output_type": "execute_result"
    }
   ],
   "source": [
    "f"
   ]
  },
  {
   "cell_type": "markdown",
   "metadata": {},
   "source": [
    "### Handling Outliers \n",
    "\n",
    "- An outlier is a very extreme score \n",
    "- There is a chance that an outlier is a regular score that was erroneously recorded (eg. GPA: 0.6 instead of 3.6)\n",
    "- Check to see if the score is legitimate or an error \n",
    "- Might exclude them from summaries \n",
    "- They might enhance understanding of the data "
   ]
  },
  {
   "cell_type": "markdown",
   "metadata": {},
   "source": [
    "## Relative Frequency Distributions \n",
    "\n",
    "Relative frequency distributions show the frequency of each class as a part or fraction of the total frequency for the entire distribution. \n",
    "\n",
    "- To convert a frequency distribution into a relative frequency distribution, divide the frequency for each class by the total frequency for the entire distribution. "
   ]
  },
  {
   "cell_type": "code",
   "execution_count": 21,
   "metadata": {},
   "outputs": [
    {
     "data": {
      "text/html": [
       "<div>\n",
       "<style scoped>\n",
       "    .dataframe tbody tr th:only-of-type {\n",
       "        vertical-align: middle;\n",
       "    }\n",
       "\n",
       "    .dataframe tbody tr th {\n",
       "        vertical-align: top;\n",
       "    }\n",
       "\n",
       "    .dataframe thead th {\n",
       "        text-align: right;\n",
       "    }\n",
       "</style>\n",
       "<table border=\"1\" class=\"dataframe\">\n",
       "  <thead>\n",
       "    <tr style=\"text-align: right;\">\n",
       "      <th></th>\n",
       "      <th>f</th>\n",
       "    </tr>\n",
       "    <tr>\n",
       "      <th>IQ Score</th>\n",
       "      <th></th>\n",
       "    </tr>\n",
       "  </thead>\n",
       "  <tbody>\n",
       "    <tr>\n",
       "      <th>[65, 70)</th>\n",
       "      <td>3.0</td>\n",
       "    </tr>\n",
       "    <tr>\n",
       "      <th>[70, 75)</th>\n",
       "      <td>3.0</td>\n",
       "    </tr>\n",
       "    <tr>\n",
       "      <th>[75, 80)</th>\n",
       "      <td>9.0</td>\n",
       "    </tr>\n",
       "    <tr>\n",
       "      <th>[80, 85)</th>\n",
       "      <td>9.0</td>\n",
       "    </tr>\n",
       "    <tr>\n",
       "      <th>[85, 90)</th>\n",
       "      <td>11.0</td>\n",
       "    </tr>\n",
       "    <tr>\n",
       "      <th>[90, 95)</th>\n",
       "      <td>20.0</td>\n",
       "    </tr>\n",
       "    <tr>\n",
       "      <th>[95, 100)</th>\n",
       "      <td>17.0</td>\n",
       "    </tr>\n",
       "    <tr>\n",
       "      <th>[100, 105)</th>\n",
       "      <td>11.0</td>\n",
       "    </tr>\n",
       "    <tr>\n",
       "      <th>[105, 110)</th>\n",
       "      <td>9.0</td>\n",
       "    </tr>\n",
       "    <tr>\n",
       "      <th>[110, 115)</th>\n",
       "      <td>6.0</td>\n",
       "    </tr>\n",
       "    <tr>\n",
       "      <th>[115, 120)</th>\n",
       "      <td>0.0</td>\n",
       "    </tr>\n",
       "    <tr>\n",
       "      <th>[120, 125)</th>\n",
       "      <td>3.0</td>\n",
       "    </tr>\n",
       "  </tbody>\n",
       "</table>\n",
       "</div>"
      ],
      "text/plain": [
       "               f\n",
       "IQ Score        \n",
       "[65, 70)     3.0\n",
       "[70, 75)     3.0\n",
       "[75, 80)     9.0\n",
       "[80, 85)     9.0\n",
       "[85, 90)    11.0\n",
       "[90, 95)    20.0\n",
       "[95, 100)   17.0\n",
       "[100, 105)  11.0\n",
       "[105, 110)   9.0\n",
       "[110, 115)   6.0\n",
       "[115, 120)   0.0\n",
       "[120, 125)   3.0"
      ]
     },
     "execution_count": 21,
     "metadata": {},
     "output_type": "execute_result"
    }
   ],
   "source": [
    "rel_f = round(f / f.sum(),2)*100\n",
    "\n",
    "rel_f"
   ]
  },
  {
   "cell_type": "markdown",
   "metadata": {},
   "source": [
    "## Cumulative Frequency Distributions\n",
    "\n",
    "Cumulative frequency distributions show the total number of observations in each class and in all lower-ranked classes. \n",
    "\n",
    "- Useful when relative standing within distribution is important (example: academic test scores)\n",
    "- Cumulative frequencies are often converted into cumulative percentages, commonly known as percentile ranks. \n",
    "- The **percentile rank** of a score indicates the percentage of scores in the entire distribution with similar or smaller values than that score\n",
    "\n",
    "- To convert a frequency distribution into a cumulative frequency distribution, add to the frequency of each class the sum of the frequencies of all classes ranked below it. "
   ]
  },
  {
   "cell_type": "markdown",
   "metadata": {},
   "source": [
    "#### Example: Frequency distribution of GRE scores"
   ]
  },
  {
   "cell_type": "code",
   "execution_count": 22,
   "metadata": {},
   "outputs": [
    {
     "data": {
      "text/plain": [
       "725–749     1\n",
       "700–724     3\n",
       "675–699    14\n",
       "650–674    30\n",
       "625–649    34\n",
       "600–624    42\n",
       "575–599    30\n",
       "550–574    27\n",
       "525–549    13\n",
       "500–524     4\n",
       "475–499     2\n",
       "Name: GRE, dtype: int64"
      ]
     },
     "execution_count": 22,
     "metadata": {},
     "output_type": "execute_result"
    }
   ],
   "source": [
    "gre_freq = pd.Series({'725–749': 1,\n",
    "'700–724': 3,\n",
    "'675–699': 14,\n",
    "'650–674': 30,\n",
    "'625–649': 34,\n",
    "'600–624': 42,\n",
    "'575–599': 30,\n",
    "'550–574': 27,\n",
    "'525–549': 13,\n",
    "'500–524': 4,\n",
    "'475–499': 2}, name='GRE')\n",
    "\n",
    "gre_freq"
   ]
  },
  {
   "cell_type": "code",
   "execution_count": 23,
   "metadata": {},
   "outputs": [
    {
     "data": {
      "text/plain": [
       "725–749    0.005\n",
       "700–724    0.015\n",
       "675–699    0.070\n",
       "650–674    0.150\n",
       "625–649    0.170\n",
       "600–624    0.210\n",
       "575–599    0.150\n",
       "550–574    0.135\n",
       "525–549    0.065\n",
       "500–524    0.020\n",
       "475–499    0.010\n",
       "Name: GRE, dtype: float64"
      ]
     },
     "execution_count": 23,
     "metadata": {},
     "output_type": "execute_result"
    }
   ],
   "source": [
    "# Calculate the relative frequency\n",
    "gre_rel_freq = round(gre_freq / gre_freq.sum(),3)\n",
    "\n",
    "gre_rel_freq"
   ]
  },
  {
   "cell_type": "code",
   "execution_count": 24,
   "metadata": {},
   "outputs": [
    {
     "data": {
      "text/plain": [
       "475–499      2\n",
       "500–524      6\n",
       "525–549     19\n",
       "550–574     46\n",
       "575–599     76\n",
       "600–624    118\n",
       "625–649    152\n",
       "650–674    182\n",
       "675–699    196\n",
       "700–724    199\n",
       "725–749    200\n",
       "Name: GRE, dtype: int64"
      ]
     },
     "execution_count": 24,
     "metadata": {},
     "output_type": "execute_result"
    }
   ],
   "source": [
    " # Calculate cumulative frequencies. Sorting of classes is important as cumsum cumulates from top to bottom \n",
    " gre_cum_freq = gre_freq.sort_index().cumsum()\n",
    "\n",
    " gre_cum_freq"
   ]
  },
  {
   "cell_type": "code",
   "execution_count": 25,
   "metadata": {},
   "outputs": [
    {
     "data": {
      "text/plain": [
       "475–499      1.0\n",
       "500–524      3.0\n",
       "525–549      9.5\n",
       "550–574     23.0\n",
       "575–599     38.0\n",
       "600–624     59.0\n",
       "625–649     76.0\n",
       "650–674     91.0\n",
       "675–699     98.0\n",
       "700–724     99.5\n",
       "725–749    100.0\n",
       "Name: GRE, dtype: float64"
      ]
     },
     "execution_count": 25,
     "metadata": {},
     "output_type": "execute_result"
    }
   ],
   "source": [
    "# Create a cumulative percent column\n",
    "gre_percentiles = (gre_cum_freq / gre_cum_freq.max()) * 100\n",
    "\n",
    "gre_percentiles"
   ]
  },
  {
   "cell_type": "code",
   "execution_count": 26,
   "metadata": {},
   "outputs": [],
   "source": [
    "# Create a dataframe for storing different frequencies\n",
    "gre_dist = gre_freq.to_frame('f').rename_axis('GRE')\n",
    "\n",
    "# Add relative frequency to the dataframe\n",
    "gre_dist['Relative f'] = gre_rel_freq\n",
    "\n",
    "# Add cumulative frequency to the dataframe\n",
    "gre_dist['Cumulative f'] = gre_cum_freq\n",
    "\n",
    "gre_dist['Percentile Rank'] = gre_percentiles"
   ]
  },
  {
   "cell_type": "code",
   "execution_count": 27,
   "metadata": {},
   "outputs": [
    {
     "data": {
      "text/html": [
       "<div>\n",
       "<style scoped>\n",
       "    .dataframe tbody tr th:only-of-type {\n",
       "        vertical-align: middle;\n",
       "    }\n",
       "\n",
       "    .dataframe tbody tr th {\n",
       "        vertical-align: top;\n",
       "    }\n",
       "\n",
       "    .dataframe thead th {\n",
       "        text-align: right;\n",
       "    }\n",
       "</style>\n",
       "<table border=\"1\" class=\"dataframe\">\n",
       "  <thead>\n",
       "    <tr style=\"text-align: right;\">\n",
       "      <th></th>\n",
       "      <th>f</th>\n",
       "      <th>Relative f</th>\n",
       "      <th>Cumulative f</th>\n",
       "      <th>Percentile Rank</th>\n",
       "    </tr>\n",
       "    <tr>\n",
       "      <th>GRE</th>\n",
       "      <th></th>\n",
       "      <th></th>\n",
       "      <th></th>\n",
       "      <th></th>\n",
       "    </tr>\n",
       "  </thead>\n",
       "  <tbody>\n",
       "    <tr>\n",
       "      <th>725–749</th>\n",
       "      <td>1</td>\n",
       "      <td>0.005</td>\n",
       "      <td>200</td>\n",
       "      <td>100.0</td>\n",
       "    </tr>\n",
       "    <tr>\n",
       "      <th>700–724</th>\n",
       "      <td>3</td>\n",
       "      <td>0.015</td>\n",
       "      <td>199</td>\n",
       "      <td>99.5</td>\n",
       "    </tr>\n",
       "    <tr>\n",
       "      <th>675–699</th>\n",
       "      <td>14</td>\n",
       "      <td>0.070</td>\n",
       "      <td>196</td>\n",
       "      <td>98.0</td>\n",
       "    </tr>\n",
       "    <tr>\n",
       "      <th>650–674</th>\n",
       "      <td>30</td>\n",
       "      <td>0.150</td>\n",
       "      <td>182</td>\n",
       "      <td>91.0</td>\n",
       "    </tr>\n",
       "    <tr>\n",
       "      <th>625–649</th>\n",
       "      <td>34</td>\n",
       "      <td>0.170</td>\n",
       "      <td>152</td>\n",
       "      <td>76.0</td>\n",
       "    </tr>\n",
       "    <tr>\n",
       "      <th>600–624</th>\n",
       "      <td>42</td>\n",
       "      <td>0.210</td>\n",
       "      <td>118</td>\n",
       "      <td>59.0</td>\n",
       "    </tr>\n",
       "    <tr>\n",
       "      <th>575–599</th>\n",
       "      <td>30</td>\n",
       "      <td>0.150</td>\n",
       "      <td>76</td>\n",
       "      <td>38.0</td>\n",
       "    </tr>\n",
       "    <tr>\n",
       "      <th>550–574</th>\n",
       "      <td>27</td>\n",
       "      <td>0.135</td>\n",
       "      <td>46</td>\n",
       "      <td>23.0</td>\n",
       "    </tr>\n",
       "    <tr>\n",
       "      <th>525–549</th>\n",
       "      <td>13</td>\n",
       "      <td>0.065</td>\n",
       "      <td>19</td>\n",
       "      <td>9.5</td>\n",
       "    </tr>\n",
       "    <tr>\n",
       "      <th>500–524</th>\n",
       "      <td>4</td>\n",
       "      <td>0.020</td>\n",
       "      <td>6</td>\n",
       "      <td>3.0</td>\n",
       "    </tr>\n",
       "    <tr>\n",
       "      <th>475–499</th>\n",
       "      <td>2</td>\n",
       "      <td>0.010</td>\n",
       "      <td>2</td>\n",
       "      <td>1.0</td>\n",
       "    </tr>\n",
       "  </tbody>\n",
       "</table>\n",
       "</div>"
      ],
      "text/plain": [
       "          f  Relative f  Cumulative f  Percentile Rank\n",
       "GRE                                                   \n",
       "725–749   1       0.005           200            100.0\n",
       "700–724   3       0.015           199             99.5\n",
       "675–699  14       0.070           196             98.0\n",
       "650–674  30       0.150           182             91.0\n",
       "625–649  34       0.170           152             76.0\n",
       "600–624  42       0.210           118             59.0\n",
       "575–599  30       0.150            76             38.0\n",
       "550–574  27       0.135            46             23.0\n",
       "525–549  13       0.065            19              9.5\n",
       "500–524   4       0.020             6              3.0\n",
       "475–499   2       0.010             2              1.0"
      ]
     },
     "execution_count": 27,
     "metadata": {},
     "output_type": "execute_result"
    }
   ],
   "source": [
    "gre_dist"
   ]
  },
  {
   "cell_type": "markdown",
   "metadata": {},
   "source": [
    "#### Example: Distribution of Parental Ratings of Movies "
   ]
  },
  {
   "cell_type": "code",
   "execution_count": 28,
   "metadata": {},
   "outputs": [
    {
     "data": {
      "text/plain": [
       "0       PG\n",
       "1       PG\n",
       "2       PG\n",
       "3    PG-13\n",
       "4        G\n",
       "dtype: category\n",
       "Categories (5, object): ['NC-17' < 'R' < 'PG-13' < 'PG' < 'G']"
      ]
     },
     "execution_count": 28,
     "metadata": {},
     "output_type": "execute_result"
    }
   ],
   "source": [
    "ratings = ['PG', 'PG', 'PG', 'PG-13', 'G',\n",
    "'G', 'PG-13', 'R', 'PG', 'PG',\n",
    "'R', 'PG', 'R', 'PG', 'R',\n",
    "'NC-17', 'NC-17', 'PG','G', 'PG-13']\n",
    "\n",
    "categories = ['NC-17', 'R', 'PG-13', 'PG', 'G']\n",
    "\n",
    "ratings = pd.Categorical(values=ratings, categories=categories, ordered=True)\n",
    "\n",
    "ratings = pd.Series(ratings, dtype='category')\n",
    "\n",
    "ratings.head()"
   ]
  },
  {
   "cell_type": "code",
   "execution_count": 29,
   "metadata": {},
   "outputs": [
    {
     "data": {
      "text/html": [
       "<div>\n",
       "<style scoped>\n",
       "    .dataframe tbody tr th:only-of-type {\n",
       "        vertical-align: middle;\n",
       "    }\n",
       "\n",
       "    .dataframe tbody tr th {\n",
       "        vertical-align: top;\n",
       "    }\n",
       "\n",
       "    .dataframe thead th {\n",
       "        text-align: right;\n",
       "    }\n",
       "</style>\n",
       "<table border=\"1\" class=\"dataframe\">\n",
       "  <thead>\n",
       "    <tr style=\"text-align: right;\">\n",
       "      <th></th>\n",
       "      <th>f</th>\n",
       "    </tr>\n",
       "    <tr>\n",
       "      <th>Rating</th>\n",
       "      <th></th>\n",
       "    </tr>\n",
       "  </thead>\n",
       "  <tbody>\n",
       "    <tr>\n",
       "      <th>NC-17</th>\n",
       "      <td>2</td>\n",
       "    </tr>\n",
       "    <tr>\n",
       "      <th>R</th>\n",
       "      <td>4</td>\n",
       "    </tr>\n",
       "    <tr>\n",
       "      <th>PG-13</th>\n",
       "      <td>3</td>\n",
       "    </tr>\n",
       "    <tr>\n",
       "      <th>PG</th>\n",
       "      <td>8</td>\n",
       "    </tr>\n",
       "    <tr>\n",
       "      <th>G</th>\n",
       "      <td>3</td>\n",
       "    </tr>\n",
       "  </tbody>\n",
       "</table>\n",
       "</div>"
      ],
      "text/plain": [
       "        f\n",
       "Rating   \n",
       "NC-17   2\n",
       "R       4\n",
       "PG-13   3\n",
       "PG      8\n",
       "G       3"
      ]
     },
     "execution_count": 29,
     "metadata": {},
     "output_type": "execute_result"
    }
   ],
   "source": [
    "ratings_dist = ratings.value_counts(sort=False).to_frame('f').rename_axis('Rating')\n",
    "\n",
    "ratings_dist"
   ]
  },
  {
   "cell_type": "code",
   "execution_count": 30,
   "metadata": {},
   "outputs": [],
   "source": [
    "ratings_dist['Rel f'] = round(ratings_dist['f']/ratings_dist['f'].sum() * 100 ,3)"
   ]
  },
  {
   "cell_type": "code",
   "execution_count": 31,
   "metadata": {},
   "outputs": [
    {
     "data": {
      "text/html": [
       "<div>\n",
       "<style scoped>\n",
       "    .dataframe tbody tr th:only-of-type {\n",
       "        vertical-align: middle;\n",
       "    }\n",
       "\n",
       "    .dataframe tbody tr th {\n",
       "        vertical-align: top;\n",
       "    }\n",
       "\n",
       "    .dataframe thead th {\n",
       "        text-align: right;\n",
       "    }\n",
       "</style>\n",
       "<table border=\"1\" class=\"dataframe\">\n",
       "  <thead>\n",
       "    <tr style=\"text-align: right;\">\n",
       "      <th></th>\n",
       "      <th>f</th>\n",
       "      <th>Rel f</th>\n",
       "    </tr>\n",
       "    <tr>\n",
       "      <th>Rating</th>\n",
       "      <th></th>\n",
       "      <th></th>\n",
       "    </tr>\n",
       "  </thead>\n",
       "  <tbody>\n",
       "    <tr>\n",
       "      <th>NC-17</th>\n",
       "      <td>2</td>\n",
       "      <td>10.0</td>\n",
       "    </tr>\n",
       "    <tr>\n",
       "      <th>R</th>\n",
       "      <td>4</td>\n",
       "      <td>20.0</td>\n",
       "    </tr>\n",
       "    <tr>\n",
       "      <th>PG-13</th>\n",
       "      <td>3</td>\n",
       "      <td>15.0</td>\n",
       "    </tr>\n",
       "    <tr>\n",
       "      <th>PG</th>\n",
       "      <td>8</td>\n",
       "      <td>40.0</td>\n",
       "    </tr>\n",
       "    <tr>\n",
       "      <th>G</th>\n",
       "      <td>3</td>\n",
       "      <td>15.0</td>\n",
       "    </tr>\n",
       "  </tbody>\n",
       "</table>\n",
       "</div>"
      ],
      "text/plain": [
       "        f  Rel f\n",
       "Rating          \n",
       "NC-17   2   10.0\n",
       "R       4   20.0\n",
       "PG-13   3   15.0\n",
       "PG      8   40.0\n",
       "G       3   15.0"
      ]
     },
     "execution_count": 31,
     "metadata": {},
     "output_type": "execute_result"
    }
   ],
   "source": [
    "ratings_dist"
   ]
  },
  {
   "cell_type": "code",
   "execution_count": 32,
   "metadata": {},
   "outputs": [],
   "source": [
    "ratings_dist['Cum f'] = ratings_dist['f'].sort_index(ascending=False).cumsum()"
   ]
  },
  {
   "cell_type": "code",
   "execution_count": 33,
   "metadata": {},
   "outputs": [
    {
     "data": {
      "text/html": [
       "<div>\n",
       "<style scoped>\n",
       "    .dataframe tbody tr th:only-of-type {\n",
       "        vertical-align: middle;\n",
       "    }\n",
       "\n",
       "    .dataframe tbody tr th {\n",
       "        vertical-align: top;\n",
       "    }\n",
       "\n",
       "    .dataframe thead th {\n",
       "        text-align: right;\n",
       "    }\n",
       "</style>\n",
       "<table border=\"1\" class=\"dataframe\">\n",
       "  <thead>\n",
       "    <tr style=\"text-align: right;\">\n",
       "      <th></th>\n",
       "      <th>f</th>\n",
       "      <th>Rel f</th>\n",
       "      <th>Cum f</th>\n",
       "    </tr>\n",
       "    <tr>\n",
       "      <th>Rating</th>\n",
       "      <th></th>\n",
       "      <th></th>\n",
       "      <th></th>\n",
       "    </tr>\n",
       "  </thead>\n",
       "  <tbody>\n",
       "    <tr>\n",
       "      <th>NC-17</th>\n",
       "      <td>2</td>\n",
       "      <td>10.0</td>\n",
       "      <td>20</td>\n",
       "    </tr>\n",
       "    <tr>\n",
       "      <th>R</th>\n",
       "      <td>4</td>\n",
       "      <td>20.0</td>\n",
       "      <td>18</td>\n",
       "    </tr>\n",
       "    <tr>\n",
       "      <th>PG-13</th>\n",
       "      <td>3</td>\n",
       "      <td>15.0</td>\n",
       "      <td>14</td>\n",
       "    </tr>\n",
       "    <tr>\n",
       "      <th>PG</th>\n",
       "      <td>8</td>\n",
       "      <td>40.0</td>\n",
       "      <td>11</td>\n",
       "    </tr>\n",
       "    <tr>\n",
       "      <th>G</th>\n",
       "      <td>3</td>\n",
       "      <td>15.0</td>\n",
       "      <td>3</td>\n",
       "    </tr>\n",
       "  </tbody>\n",
       "</table>\n",
       "</div>"
      ],
      "text/plain": [
       "        f  Rel f  Cum f\n",
       "Rating                 \n",
       "NC-17   2   10.0     20\n",
       "R       4   20.0     18\n",
       "PG-13   3   15.0     14\n",
       "PG      8   40.0     11\n",
       "G       3   15.0      3"
      ]
     },
     "execution_count": 33,
     "metadata": {},
     "output_type": "execute_result"
    }
   ],
   "source": [
    "ratings_dist"
   ]
  },
  {
   "cell_type": "code",
   "execution_count": 34,
   "metadata": {},
   "outputs": [],
   "source": [
    "ratings_dist['Percentile'] = round(ratings_dist['Cum f']/ratings_dist['Cum f'].max() * 100, 3)"
   ]
  },
  {
   "cell_type": "code",
   "execution_count": 35,
   "metadata": {},
   "outputs": [
    {
     "data": {
      "text/html": [
       "<div>\n",
       "<style scoped>\n",
       "    .dataframe tbody tr th:only-of-type {\n",
       "        vertical-align: middle;\n",
       "    }\n",
       "\n",
       "    .dataframe tbody tr th {\n",
       "        vertical-align: top;\n",
       "    }\n",
       "\n",
       "    .dataframe thead th {\n",
       "        text-align: right;\n",
       "    }\n",
       "</style>\n",
       "<table border=\"1\" class=\"dataframe\">\n",
       "  <thead>\n",
       "    <tr style=\"text-align: right;\">\n",
       "      <th></th>\n",
       "      <th>f</th>\n",
       "      <th>Rel f</th>\n",
       "      <th>Cum f</th>\n",
       "      <th>Percentile</th>\n",
       "    </tr>\n",
       "    <tr>\n",
       "      <th>Rating</th>\n",
       "      <th></th>\n",
       "      <th></th>\n",
       "      <th></th>\n",
       "      <th></th>\n",
       "    </tr>\n",
       "  </thead>\n",
       "  <tbody>\n",
       "    <tr>\n",
       "      <th>NC-17</th>\n",
       "      <td>2</td>\n",
       "      <td>10.0</td>\n",
       "      <td>20</td>\n",
       "      <td>100.0</td>\n",
       "    </tr>\n",
       "    <tr>\n",
       "      <th>R</th>\n",
       "      <td>4</td>\n",
       "      <td>20.0</td>\n",
       "      <td>18</td>\n",
       "      <td>90.0</td>\n",
       "    </tr>\n",
       "    <tr>\n",
       "      <th>PG-13</th>\n",
       "      <td>3</td>\n",
       "      <td>15.0</td>\n",
       "      <td>14</td>\n",
       "      <td>70.0</td>\n",
       "    </tr>\n",
       "    <tr>\n",
       "      <th>PG</th>\n",
       "      <td>8</td>\n",
       "      <td>40.0</td>\n",
       "      <td>11</td>\n",
       "      <td>55.0</td>\n",
       "    </tr>\n",
       "    <tr>\n",
       "      <th>G</th>\n",
       "      <td>3</td>\n",
       "      <td>15.0</td>\n",
       "      <td>3</td>\n",
       "      <td>15.0</td>\n",
       "    </tr>\n",
       "  </tbody>\n",
       "</table>\n",
       "</div>"
      ],
      "text/plain": [
       "        f  Rel f  Cum f  Percentile\n",
       "Rating                             \n",
       "NC-17   2   10.0     20       100.0\n",
       "R       4   20.0     18        90.0\n",
       "PG-13   3   15.0     14        70.0\n",
       "PG      8   40.0     11        55.0\n",
       "G       3   15.0      3        15.0"
      ]
     },
     "execution_count": 35,
     "metadata": {},
     "output_type": "execute_result"
    }
   ],
   "source": [
    "ratings_dist"
   ]
  },
  {
   "cell_type": "markdown",
   "metadata": {},
   "source": [
    "## Graphs \n",
    "- A **Histogram** is a bar-type graph for quantitative data. The common boundaries between adjacent bars emphasize the continuity of the data, as with continuous variables \n",
    "- A **Frequency Polygon** is a line graph for quantitative data that also emphasizes the continuity of continuous variables. \n",
    "- A **Stem and Lead Display** is a device for sorting quantitative data on the basis of leading and trailing digits. \n",
    "- A **Bar Graph** is a bar-type graph for qualitative data. Gaps between adjacent bars emphasize the discontinuous nature of the data. \n",
    "- A **Positively Skewed Distribution** is a distribution that includes a few extreme observations in the positive direction (to the right of the majority of observations).\n",
    "- A **Negatively Skewed Distribution** is a distribution that includes a few extreme observations in the negative direction (to the left of the majority of observations)."
   ]
  },
  {
   "cell_type": "markdown",
   "metadata": {},
   "source": [
    "### Rules for Constructing Graphs \n",
    "1. Decide on the appropriate type of graph\n",
    "2. Identify the class intervals that will be superimposed on the horizontal axis (i.e. x axis major ticks)\n",
    "3. Along the entire vertical axis, superimpose a progression of convenient numbers (i.e. y axis major ticks)\n",
    "4. Supply labels for both axes and a title (or even an explanatory sentence) for the graph"
   ]
  },
  {
   "cell_type": "markdown",
   "metadata": {},
   "source": [
    "#### Example: Distribution of Income of College Graduates"
   ]
  },
  {
   "cell_type": "code",
   "execution_count": 36,
   "metadata": {},
   "outputs": [
    {
     "data": {
      "text/plain": [
       "130,000–139,999    1\n",
       "120,000–129,999    0\n",
       "110,000–119,999    1\n",
       "100,000–109,999    3\n",
       "90,000–99,999      1\n",
       "dtype: int64"
      ]
     },
     "execution_count": 36,
     "metadata": {},
     "output_type": "execute_result"
    }
   ],
   "source": [
    "incomes = pd.Series({\n",
    "    '130,000–139,999': 1,\n",
    "    '120,000–129,999': 0,\n",
    "    '110,000–119,999': 1,\n",
    "    '100,000–109,999': 3,\n",
    "    '90,000–99,999': 1,\n",
    "    '80,000–89,999': 5,\n",
    "    '70,000–79,999': 7,\n",
    "    '60,000–69,999': 10,\n",
    "    '50,000–59,999': 14,\n",
    "    '40,000–49,999': 23,\n",
    "    '30,000–39,999': 17,\n",
    "    '20,000–29,999': 10,\n",
    "    '10,000–19,999': 8,\n",
    "    '0–9,999': 3\n",
    "})\n",
    "\n",
    "incomes.head()"
   ]
  },
  {
   "cell_type": "code",
   "execution_count": 46,
   "metadata": {},
   "outputs": [
    {
     "data": {
      "text/plain": [
       "Index(['130,000–139,999', '120,000–129,999', '110,000–119,999',\n",
       "       '100,000–109,999', '90,000–99,999', '80,000–89,999', '70,000–79,999',\n",
       "       '60,000–69,999', '50,000–59,999', '40,000–49,999', '30,000–39,999',\n",
       "       '20,000–29,999', '10,000–19,999', '0–9,999'],\n",
       "      dtype='object')"
      ]
     },
     "execution_count": 46,
     "metadata": {},
     "output_type": "execute_result"
    }
   ],
   "source": [
    "incomes.index"
   ]
  },
  {
   "cell_type": "code",
   "execution_count": 249,
   "metadata": {},
   "outputs": [],
   "source": [
    "incomes_df = incomes.to_frame('f').rename_axis('income').reset_index()"
   ]
  },
  {
   "cell_type": "code",
   "execution_count": 252,
   "metadata": {},
   "outputs": [],
   "source": [
    "incomes_df.sort_index(ascending=False, inplace=True)"
   ]
  },
  {
   "cell_type": "code",
   "execution_count": 253,
   "metadata": {},
   "outputs": [
    {
     "data": {
      "text/html": [
       "<div>\n",
       "<style scoped>\n",
       "    .dataframe tbody tr th:only-of-type {\n",
       "        vertical-align: middle;\n",
       "    }\n",
       "\n",
       "    .dataframe tbody tr th {\n",
       "        vertical-align: top;\n",
       "    }\n",
       "\n",
       "    .dataframe thead th {\n",
       "        text-align: right;\n",
       "    }\n",
       "</style>\n",
       "<table border=\"1\" class=\"dataframe\">\n",
       "  <thead>\n",
       "    <tr style=\"text-align: right;\">\n",
       "      <th></th>\n",
       "      <th>income</th>\n",
       "      <th>f</th>\n",
       "    </tr>\n",
       "  </thead>\n",
       "  <tbody>\n",
       "    <tr>\n",
       "      <th>13</th>\n",
       "      <td>0–9,999</td>\n",
       "      <td>3</td>\n",
       "    </tr>\n",
       "    <tr>\n",
       "      <th>12</th>\n",
       "      <td>10,000–19,999</td>\n",
       "      <td>8</td>\n",
       "    </tr>\n",
       "    <tr>\n",
       "      <th>11</th>\n",
       "      <td>20,000–29,999</td>\n",
       "      <td>10</td>\n",
       "    </tr>\n",
       "    <tr>\n",
       "      <th>10</th>\n",
       "      <td>30,000–39,999</td>\n",
       "      <td>17</td>\n",
       "    </tr>\n",
       "    <tr>\n",
       "      <th>9</th>\n",
       "      <td>40,000–49,999</td>\n",
       "      <td>23</td>\n",
       "    </tr>\n",
       "    <tr>\n",
       "      <th>8</th>\n",
       "      <td>50,000–59,999</td>\n",
       "      <td>14</td>\n",
       "    </tr>\n",
       "    <tr>\n",
       "      <th>7</th>\n",
       "      <td>60,000–69,999</td>\n",
       "      <td>10</td>\n",
       "    </tr>\n",
       "    <tr>\n",
       "      <th>6</th>\n",
       "      <td>70,000–79,999</td>\n",
       "      <td>7</td>\n",
       "    </tr>\n",
       "    <tr>\n",
       "      <th>5</th>\n",
       "      <td>80,000–89,999</td>\n",
       "      <td>5</td>\n",
       "    </tr>\n",
       "    <tr>\n",
       "      <th>4</th>\n",
       "      <td>90,000–99,999</td>\n",
       "      <td>1</td>\n",
       "    </tr>\n",
       "    <tr>\n",
       "      <th>3</th>\n",
       "      <td>100,000–109,999</td>\n",
       "      <td>3</td>\n",
       "    </tr>\n",
       "    <tr>\n",
       "      <th>2</th>\n",
       "      <td>110,000–119,999</td>\n",
       "      <td>1</td>\n",
       "    </tr>\n",
       "    <tr>\n",
       "      <th>1</th>\n",
       "      <td>120,000–129,999</td>\n",
       "      <td>0</td>\n",
       "    </tr>\n",
       "    <tr>\n",
       "      <th>0</th>\n",
       "      <td>130,000–139,999</td>\n",
       "      <td>1</td>\n",
       "    </tr>\n",
       "  </tbody>\n",
       "</table>\n",
       "</div>"
      ],
      "text/plain": [
       "             income   f\n",
       "13          0–9,999   3\n",
       "12    10,000–19,999   8\n",
       "11    20,000–29,999  10\n",
       "10    30,000–39,999  17\n",
       "9     40,000–49,999  23\n",
       "8     50,000–59,999  14\n",
       "7     60,000–69,999  10\n",
       "6     70,000–79,999   7\n",
       "5     80,000–89,999   5\n",
       "4     90,000–99,999   1\n",
       "3   100,000–109,999   3\n",
       "2   110,000–119,999   1\n",
       "1   120,000–129,999   0\n",
       "0   130,000–139,999   1"
      ]
     },
     "execution_count": 253,
     "metadata": {},
     "output_type": "execute_result"
    }
   ],
   "source": [
    "incomes_df"
   ]
  },
  {
   "cell_type": "code",
   "execution_count": 277,
   "metadata": {},
   "outputs": [
    {
     "name": "stdout",
     "output_type": "stream",
     "text": [
      "AxesSubplot(0.0704716,0.107546;0.881351x0.862454)\n"
     ]
    },
    {
     "data": {
      "image/png": "[encoded data removed]",
      "text/plain": [
       "<Figure size 691.2x432 with 1 Axes>"
      ]
     },
     "metadata": {},
     "output_type": "display_data"
    }
   ],
   "source": [
    "# Construct a histogram\n",
    "\n",
    "\n",
    "# Usuing SNS (Axes Level) + MPL in conjunction \n",
    "# fig, ax = plt.subplots(figsize=(8, 6))\n",
    "# ax.set_xticklabels(ax.get_xticklabels(),rotation = 90)\n",
    "# sns.barplot(x='income', y='f', data=incomes_df, palette='coolwarm')\n",
    "\n",
    "\n",
    "sns.set_theme()\n",
    "# Using SNS object oriented \n",
    "g = sns.catplot(x='income', y='f', data=incomes_df, palette='coolwarm', kind='bar', height=6, aspect=16/10).set(title='Distribution of Household Incomes amongst College Students')\n",
    "\n",
    "ax = g.fig.axes[0]\n",
    "labels = ax.get_xticklabels()\n",
    "ax.set_xticklabels(labels,rotation = 90)\n",
    "\n",
    "sns.lineplot(x=\"income\", y=\"f\", data=incomes_df, color='black', ax=ax)\n",
    "\n",
    "\n",
    "print(ax)\n",
    "\n",
    "# Using Pandas \n",
    "#incomes.plot(kind='bar', width=1, edgecolor='white')\n"
   ]
  },
  {
   "cell_type": "code",
   "execution_count": 278,
   "metadata": {},
   "outputs": [
    {
     "name": "stderr",
     "output_type": "stream",
     "text": [
      "/var/folders/yj/d79vt9ns0kg81603khc7507h0000gn/T/ipykernel_83254/2887394156.py:5: UserWarning: FixedFormatter should only be used together with FixedLocator\n",
      "  ax.set_xticklabels(labels,rotation = 90)\n"
     ]
    },
    {
     "data": {
      "image/png": "[encoded data removed]",
      "text/plain": [
       "<Figure size 691.2x432 with 1 Axes>"
      ]
     },
     "metadata": {},
     "output_type": "display_data"
    }
   ],
   "source": [
    "g = sns.relplot(x=\"income\", y=\"f\", data=incomes_df, palette='magma', kind='line', height=6, aspect=16/10).set(title='Distribution of Household Incomes amongst College Students')\n",
    "\n",
    "ax = g.fig.axes[0]\n",
    "labels = ax.get_xticklabels()\n",
    "ax.set_xticklabels(labels,rotation = 90)\n",
    "\n",
    "plt.show()"
   ]
  },
  {
   "cell_type": "markdown",
   "metadata": {},
   "source": [
    "### Example: Two Age Distributions"
   ]
  },
  {
   "cell_type": "code",
   "execution_count": 352,
   "metadata": {},
   "outputs": [
    {
     "data": {
      "text/plain": [
       "['65–above', '60–64', '55–59', '50–54', '45–49', ..., '20–24', '15–19', '10–14', '5–9', '0–4']\n",
       "Length: 14\n",
       "Categories (14, object): ['0–4' < '5–9' < '10–14' < '15–19' ... '50–54' < '55–59' < '60–64' < '65–above']"
      ]
     },
     "execution_count": 352,
     "metadata": {},
     "output_type": "execute_result"
    }
   ],
   "source": [
    "categories = pd.Categorical(['65–above','60–64','55–59','50–54','45–49','40–44','35–39','30–34','25–29','20–24','15–19' ,'10–14','5–9','0–4'], categories= reversed(['65–above','60–64','55–59','50–54','45–49','40–44','35–39','30–34','25–29','20–24','15–19' ,'10–14','5–9','0–4']), ordered=True)\n",
    "\n",
    "categories"
   ]
  },
  {
   "cell_type": "code",
   "execution_count": 353,
   "metadata": {},
   "outputs": [],
   "source": [
    "age_dist = pd.DataFrame(data=[[105, 13], [53, 5], [45, 6], [40, 7], [44, 7], [38, 7], [31, 7], [27, 6], [25, 7], [20, 7], [20, 7], [19, 7], [17, 7], [16, 7]], index=categories, columns=['Small Town f', 'U.S. Population (2010) %']).rename_axis('Age')"
   ]
  },
  {
   "cell_type": "code",
   "execution_count": 354,
   "metadata": {},
   "outputs": [
    {
     "data": {
      "text/html": [
       "<div>\n",
       "<style scoped>\n",
       "    .dataframe tbody tr th:only-of-type {\n",
       "        vertical-align: middle;\n",
       "    }\n",
       "\n",
       "    .dataframe tbody tr th {\n",
       "        vertical-align: top;\n",
       "    }\n",
       "\n",
       "    .dataframe thead th {\n",
       "        text-align: right;\n",
       "    }\n",
       "</style>\n",
       "<table border=\"1\" class=\"dataframe\">\n",
       "  <thead>\n",
       "    <tr style=\"text-align: right;\">\n",
       "      <th></th>\n",
       "      <th>Small Town f</th>\n",
       "      <th>U.S. Population (2010) %</th>\n",
       "    </tr>\n",
       "    <tr>\n",
       "      <th>Age</th>\n",
       "      <th></th>\n",
       "      <th></th>\n",
       "    </tr>\n",
       "  </thead>\n",
       "  <tbody>\n",
       "    <tr>\n",
       "      <th>65–above</th>\n",
       "      <td>105</td>\n",
       "      <td>13</td>\n",
       "    </tr>\n",
       "    <tr>\n",
       "      <th>60–64</th>\n",
       "      <td>53</td>\n",
       "      <td>5</td>\n",
       "    </tr>\n",
       "    <tr>\n",
       "      <th>55–59</th>\n",
       "      <td>45</td>\n",
       "      <td>6</td>\n",
       "    </tr>\n",
       "    <tr>\n",
       "      <th>50–54</th>\n",
       "      <td>40</td>\n",
       "      <td>7</td>\n",
       "    </tr>\n",
       "    <tr>\n",
       "      <th>45–49</th>\n",
       "      <td>44</td>\n",
       "      <td>7</td>\n",
       "    </tr>\n",
       "    <tr>\n",
       "      <th>40–44</th>\n",
       "      <td>38</td>\n",
       "      <td>7</td>\n",
       "    </tr>\n",
       "    <tr>\n",
       "      <th>35–39</th>\n",
       "      <td>31</td>\n",
       "      <td>7</td>\n",
       "    </tr>\n",
       "    <tr>\n",
       "      <th>30–34</th>\n",
       "      <td>27</td>\n",
       "      <td>6</td>\n",
       "    </tr>\n",
       "    <tr>\n",
       "      <th>25–29</th>\n",
       "      <td>25</td>\n",
       "      <td>7</td>\n",
       "    </tr>\n",
       "    <tr>\n",
       "      <th>20–24</th>\n",
       "      <td>20</td>\n",
       "      <td>7</td>\n",
       "    </tr>\n",
       "    <tr>\n",
       "      <th>15–19</th>\n",
       "      <td>20</td>\n",
       "      <td>7</td>\n",
       "    </tr>\n",
       "    <tr>\n",
       "      <th>10–14</th>\n",
       "      <td>19</td>\n",
       "      <td>7</td>\n",
       "    </tr>\n",
       "    <tr>\n",
       "      <th>5–9</th>\n",
       "      <td>17</td>\n",
       "      <td>7</td>\n",
       "    </tr>\n",
       "    <tr>\n",
       "      <th>0–4</th>\n",
       "      <td>16</td>\n",
       "      <td>7</td>\n",
       "    </tr>\n",
       "  </tbody>\n",
       "</table>\n",
       "</div>"
      ],
      "text/plain": [
       "          Small Town f  U.S. Population (2010) %\n",
       "Age                                             \n",
       "65–above           105                        13\n",
       "60–64               53                         5\n",
       "55–59               45                         6\n",
       "50–54               40                         7\n",
       "45–49               44                         7\n",
       "40–44               38                         7\n",
       "35–39               31                         7\n",
       "30–34               27                         6\n",
       "25–29               25                         7\n",
       "20–24               20                         7\n",
       "15–19               20                         7\n",
       "10–14               19                         7\n",
       "5–9                 17                         7\n",
       "0–4                 16                         7"
      ]
     },
     "execution_count": 354,
     "metadata": {},
     "output_type": "execute_result"
    }
   ],
   "source": [
    "age_dist"
   ]
  },
  {
   "cell_type": "code",
   "execution_count": 355,
   "metadata": {},
   "outputs": [],
   "source": [
    "age_dist['Small Town %'] = age_dist['Small Town f']/age_dist['Small Town f'].sum() * 100"
   ]
  },
  {
   "cell_type": "code",
   "execution_count": 356,
   "metadata": {},
   "outputs": [
    {
     "data": {
      "text/html": [
       "<div>\n",
       "<style scoped>\n",
       "    .dataframe tbody tr th:only-of-type {\n",
       "        vertical-align: middle;\n",
       "    }\n",
       "\n",
       "    .dataframe tbody tr th {\n",
       "        vertical-align: top;\n",
       "    }\n",
       "\n",
       "    .dataframe thead th {\n",
       "        text-align: right;\n",
       "    }\n",
       "</style>\n",
       "<table border=\"1\" class=\"dataframe\">\n",
       "  <thead>\n",
       "    <tr style=\"text-align: right;\">\n",
       "      <th></th>\n",
       "      <th>Small Town f</th>\n",
       "      <th>U.S. Population (2010) %</th>\n",
       "      <th>Small Town %</th>\n",
       "    </tr>\n",
       "    <tr>\n",
       "      <th>Age</th>\n",
       "      <th></th>\n",
       "      <th></th>\n",
       "      <th></th>\n",
       "    </tr>\n",
       "  </thead>\n",
       "  <tbody>\n",
       "    <tr>\n",
       "      <th>65–above</th>\n",
       "      <td>105</td>\n",
       "      <td>13</td>\n",
       "      <td>21.0</td>\n",
       "    </tr>\n",
       "    <tr>\n",
       "      <th>60–64</th>\n",
       "      <td>53</td>\n",
       "      <td>5</td>\n",
       "      <td>10.6</td>\n",
       "    </tr>\n",
       "    <tr>\n",
       "      <th>55–59</th>\n",
       "      <td>45</td>\n",
       "      <td>6</td>\n",
       "      <td>9.0</td>\n",
       "    </tr>\n",
       "    <tr>\n",
       "      <th>50–54</th>\n",
       "      <td>40</td>\n",
       "      <td>7</td>\n",
       "      <td>8.0</td>\n",
       "    </tr>\n",
       "    <tr>\n",
       "      <th>45–49</th>\n",
       "      <td>44</td>\n",
       "      <td>7</td>\n",
       "      <td>8.8</td>\n",
       "    </tr>\n",
       "    <tr>\n",
       "      <th>40–44</th>\n",
       "      <td>38</td>\n",
       "      <td>7</td>\n",
       "      <td>7.6</td>\n",
       "    </tr>\n",
       "    <tr>\n",
       "      <th>35–39</th>\n",
       "      <td>31</td>\n",
       "      <td>7</td>\n",
       "      <td>6.2</td>\n",
       "    </tr>\n",
       "    <tr>\n",
       "      <th>30–34</th>\n",
       "      <td>27</td>\n",
       "      <td>6</td>\n",
       "      <td>5.4</td>\n",
       "    </tr>\n",
       "    <tr>\n",
       "      <th>25–29</th>\n",
       "      <td>25</td>\n",
       "      <td>7</td>\n",
       "      <td>5.0</td>\n",
       "    </tr>\n",
       "    <tr>\n",
       "      <th>20–24</th>\n",
       "      <td>20</td>\n",
       "      <td>7</td>\n",
       "      <td>4.0</td>\n",
       "    </tr>\n",
       "    <tr>\n",
       "      <th>15–19</th>\n",
       "      <td>20</td>\n",
       "      <td>7</td>\n",
       "      <td>4.0</td>\n",
       "    </tr>\n",
       "    <tr>\n",
       "      <th>10–14</th>\n",
       "      <td>19</td>\n",
       "      <td>7</td>\n",
       "      <td>3.8</td>\n",
       "    </tr>\n",
       "    <tr>\n",
       "      <th>5–9</th>\n",
       "      <td>17</td>\n",
       "      <td>7</td>\n",
       "      <td>3.4</td>\n",
       "    </tr>\n",
       "    <tr>\n",
       "      <th>0–4</th>\n",
       "      <td>16</td>\n",
       "      <td>7</td>\n",
       "      <td>3.2</td>\n",
       "    </tr>\n",
       "  </tbody>\n",
       "</table>\n",
       "</div>"
      ],
      "text/plain": [
       "          Small Town f  U.S. Population (2010) %  Small Town %\n",
       "Age                                                           \n",
       "65–above           105                        13          21.0\n",
       "60–64               53                         5          10.6\n",
       "55–59               45                         6           9.0\n",
       "50–54               40                         7           8.0\n",
       "45–49               44                         7           8.8\n",
       "40–44               38                         7           7.6\n",
       "35–39               31                         7           6.2\n",
       "30–34               27                         6           5.4\n",
       "25–29               25                         7           5.0\n",
       "20–24               20                         7           4.0\n",
       "15–19               20                         7           4.0\n",
       "10–14               19                         7           3.8\n",
       "5–9                 17                         7           3.4\n",
       "0–4                 16                         7           3.2"
      ]
     },
     "execution_count": 356,
     "metadata": {},
     "output_type": "execute_result"
    }
   ],
   "source": [
    "age_dist"
   ]
  },
  {
   "cell_type": "code",
   "execution_count": 362,
   "metadata": {},
   "outputs": [],
   "source": [
    "age_dist_long = pd.melt(age_dist.reset_index(), id_vars='Age', value_vars=['U.S. Population (2010) %', 'Small Town %'], value_name='Relative f (%)', var_name='Data')"
   ]
  },
  {
   "cell_type": "code",
   "execution_count": 363,
   "metadata": {},
   "outputs": [
    {
     "name": "stderr",
     "output_type": "stream",
     "text": [
      "/var/folders/yj/d79vt9ns0kg81603khc7507h0000gn/T/ipykernel_83254/3640925549.py:4: UserWarning: FixedFormatter should only be used together with FixedLocator\n",
      "  ax.set_xticklabels(ax.get_xticklabels(), rotation=90)\n"
     ]
    },
    {
     "data": {
      "image/png": "[encoded data removed]",
      "text/plain": [
       "<Figure size 523.85x360 with 1 Axes>"
      ]
     },
     "metadata": {},
     "output_type": "display_data"
    }
   ],
   "source": [
    "g = sns.relplot(x='Age', y='Relative f (%)', hue='Data', data=age_dist_long, kind='line').set(title='Relative f (%) of Age Groups')\n",
    "\n",
    "ax = g.fig.axes[0]\n",
    "ax.set_xticklabels(ax.get_xticklabels(), rotation=90)\n",
    "\n",
    "plt.show()"
   ]
  },
  {
   "cell_type": "code",
   "execution_count": null,
   "metadata": {},
   "outputs": [],
   "source": []
  }
 ],
 "metadata": {
  "interpreter": {
   "hash": "949510482b8eeb0db0de64008f8e13a21a90dd06afd7a8e21dd837eed22f74f3"
  },
  "kernelspec": {
   "display_name": "Python 3.9.10 ('base')",
   "language": "python",
   "name": "python3"
  },
  "language_info": {
   "codemirror_mode": {
    "name": "ipython",
    "version": 3
   },
   "file_extension": ".py",
   "mimetype": "text/x-python",
   "name": "python",
   "nbconvert_exporter": "python",
   "pygments_lexer": "ipython3",
   "version": "3.9.10"
  },
  "orig_nbformat": 4
 },
 "nbformat": 4,
 "nbformat_minor": 2
}
