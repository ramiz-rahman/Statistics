{
 "cells": [
  {
   "cell_type": "markdown",
   "metadata": {},
   "source": [
    "# 07: Sampling Distribution \n",
    "\n",
    "- **Sampling Distribution of the Mean**: Probability distribution of means for all possible random samples of a given size from some population. \n",
    "\n",
    "- The notion of a **sampling distribution** is the most important concept in inferential statistics. \n",
    "\n",
    "- A **sampling distribution** serves as a frame of reference for every outcome, among all possible outcomes, that could occur just by chance. \n",
    "\n",
    "- \"All possible random samples\" refers to the number of different ways in which a single samples of size 100 can be selected from the population. This tends to be huge number that is nearly impossible to calculate even with computers. \n"
   ]
  },
  {
   "cell_type": "code",
   "execution_count": 2,
   "metadata": {},
   "outputs": [],
   "source": [
    "import pandas as pd"
   ]
  },
  {
   "cell_type": "markdown",
   "metadata": {},
   "source": [
    "### Constructing a Sampling Distribution \n",
    "\n",
    "Imagine a very simple population consisting of only five observations: 2, 4, 6, 8, 10\n",
    "\n",
    "- (a) List all possible samples of size two (given that sampling is done with replacements)\n",
    "- (b) Construct a relative frequency table showing the sampling distribution of the mean. \n"
   ]
  },
  {
   "cell_type": "code",
   "execution_count": 1,
   "metadata": {},
   "outputs": [],
   "source": [
    "dist = [\n",
    "    [2, 2], [2, 4], [2, 6], [2, 8], [2, 10],\n",
    "    [4, 2], [4, 4], [4, 6], [4, 8], [4, 10],\n",
    "    [6, 2], [6, 4], [6, 6], [6, 8], [6, 10],\n",
    "    [8, 2], [8, 4], [8, 6], [8, 8], [8, 10],\n",
    "    [10, 2], [10, 4], [10, 6], [10, 8], [10, 10]\n",
    "]"
   ]
  },
  {
   "cell_type": "code",
   "execution_count": 11,
   "metadata": {},
   "outputs": [],
   "source": [
    "df = pd.DataFrame(dist, columns=['a', 'b'])"
   ]
  },
  {
   "cell_type": "code",
   "execution_count": 13,
   "metadata": {},
   "outputs": [
    {
     "data": {
      "text/html": [
       "<div>\n",
       "<style scoped>\n",
       "    .dataframe tbody tr th:only-of-type {\n",
       "        vertical-align: middle;\n",
       "    }\n",
       "\n",
       "    .dataframe tbody tr th {\n",
       "        vertical-align: top;\n",
       "    }\n",
       "\n",
       "    .dataframe thead th {\n",
       "        text-align: right;\n",
       "    }\n",
       "</style>\n",
       "<table border=\"1\" class=\"dataframe\">\n",
       "  <thead>\n",
       "    <tr style=\"text-align: right;\">\n",
       "      <th></th>\n",
       "      <th>a</th>\n",
       "      <th>b</th>\n",
       "    </tr>\n",
       "  </thead>\n",
       "  <tbody>\n",
       "    <tr>\n",
       "      <th>0</th>\n",
       "      <td>2</td>\n",
       "      <td>2</td>\n",
       "    </tr>\n",
       "    <tr>\n",
       "      <th>1</th>\n",
       "      <td>2</td>\n",
       "      <td>4</td>\n",
       "    </tr>\n",
       "    <tr>\n",
       "      <th>2</th>\n",
       "      <td>2</td>\n",
       "      <td>6</td>\n",
       "    </tr>\n",
       "    <tr>\n",
       "      <th>3</th>\n",
       "      <td>2</td>\n",
       "      <td>8</td>\n",
       "    </tr>\n",
       "    <tr>\n",
       "      <th>4</th>\n",
       "      <td>2</td>\n",
       "      <td>10</td>\n",
       "    </tr>\n",
       "  </tbody>\n",
       "</table>\n",
       "</div>"
      ],
      "text/plain": [
       "   a   b\n",
       "0  2   2\n",
       "1  2   4\n",
       "2  2   6\n",
       "3  2   8\n",
       "4  2  10"
      ]
     },
     "execution_count": 13,
     "metadata": {},
     "output_type": "execute_result"
    }
   ],
   "source": [
    "df.head()"
   ]
  },
  {
   "cell_type": "code",
   "execution_count": 17,
   "metadata": {},
   "outputs": [],
   "source": [
    "df['mean'] = df.mean(axis=1)"
   ]
  },
  {
   "cell_type": "code",
   "execution_count": 23,
   "metadata": {},
   "outputs": [],
   "source": [
    "sampling_means = df['mean'].value_counts(sort=False).to_frame('f').rename_axis('Mean')"
   ]
  },
  {
   "cell_type": "code",
   "execution_count": 43,
   "metadata": {},
   "outputs": [],
   "source": [
    "sampling_means['rel_f'] = round(sampling_means['f']/sampling_means['f'].sum(), 4)"
   ]
  },
  {
   "cell_type": "code",
   "execution_count": 46,
   "metadata": {},
   "outputs": [],
   "source": [
    "sampling_means['prob'] = round(sampling_means['rel_f']*100)"
   ]
  },
  {
   "cell_type": "code",
   "execution_count": 47,
   "metadata": {},
   "outputs": [
    {
     "data": {
      "text/html": [
       "<div>\n",
       "<style scoped>\n",
       "    .dataframe tbody tr th:only-of-type {\n",
       "        vertical-align: middle;\n",
       "    }\n",
       "\n",
       "    .dataframe tbody tr th {\n",
       "        vertical-align: top;\n",
       "    }\n",
       "\n",
       "    .dataframe thead th {\n",
       "        text-align: right;\n",
       "    }\n",
       "</style>\n",
       "<table border=\"1\" class=\"dataframe\">\n",
       "  <thead>\n",
       "    <tr style=\"text-align: right;\">\n",
       "      <th></th>\n",
       "      <th>f</th>\n",
       "      <th>rel_f</th>\n",
       "      <th>prob</th>\n",
       "    </tr>\n",
       "    <tr>\n",
       "      <th>Mean</th>\n",
       "      <th></th>\n",
       "      <th></th>\n",
       "      <th></th>\n",
       "    </tr>\n",
       "  </thead>\n",
       "  <tbody>\n",
       "    <tr>\n",
       "      <th>10.0</th>\n",
       "      <td>1</td>\n",
       "      <td>0.04</td>\n",
       "      <td>4.0</td>\n",
       "    </tr>\n",
       "    <tr>\n",
       "      <th>9.0</th>\n",
       "      <td>2</td>\n",
       "      <td>0.08</td>\n",
       "      <td>8.0</td>\n",
       "    </tr>\n",
       "    <tr>\n",
       "      <th>8.0</th>\n",
       "      <td>3</td>\n",
       "      <td>0.12</td>\n",
       "      <td>12.0</td>\n",
       "    </tr>\n",
       "    <tr>\n",
       "      <th>7.0</th>\n",
       "      <td>4</td>\n",
       "      <td>0.16</td>\n",
       "      <td>16.0</td>\n",
       "    </tr>\n",
       "    <tr>\n",
       "      <th>6.0</th>\n",
       "      <td>5</td>\n",
       "      <td>0.20</td>\n",
       "      <td>20.0</td>\n",
       "    </tr>\n",
       "    <tr>\n",
       "      <th>5.0</th>\n",
       "      <td>4</td>\n",
       "      <td>0.16</td>\n",
       "      <td>16.0</td>\n",
       "    </tr>\n",
       "    <tr>\n",
       "      <th>4.0</th>\n",
       "      <td>3</td>\n",
       "      <td>0.12</td>\n",
       "      <td>12.0</td>\n",
       "    </tr>\n",
       "    <tr>\n",
       "      <th>3.0</th>\n",
       "      <td>2</td>\n",
       "      <td>0.08</td>\n",
       "      <td>8.0</td>\n",
       "    </tr>\n",
       "    <tr>\n",
       "      <th>2.0</th>\n",
       "      <td>1</td>\n",
       "      <td>0.04</td>\n",
       "      <td>4.0</td>\n",
       "    </tr>\n",
       "  </tbody>\n",
       "</table>\n",
       "</div>"
      ],
      "text/plain": [
       "      f  rel_f  prob\n",
       "Mean                \n",
       "10.0  1   0.04   4.0\n",
       "9.0   2   0.08   8.0\n",
       "8.0   3   0.12  12.0\n",
       "7.0   4   0.16  16.0\n",
       "6.0   5   0.20  20.0\n",
       "5.0   4   0.16  16.0\n",
       "4.0   3   0.12  12.0\n",
       "3.0   2   0.08   8.0\n",
       "2.0   1   0.04   4.0"
      ]
     },
     "execution_count": 47,
     "metadata": {},
     "output_type": "execute_result"
    }
   ],
   "source": [
    "sampling_means.sort_index(ascending=False)"
   ]
  },
  {
   "cell_type": "code",
   "execution_count": 42,
   "metadata": {},
   "outputs": [
    {
     "data": {
      "text/plain": [
       "<AxesSubplot:xlabel='Mean'>"
      ]
     },
     "execution_count": 42,
     "metadata": {},
     "output_type": "execute_result"
    },
    {
     "data": {
      "image/png": "[encoded data removed]",
      "text/plain": [
       "<Figure size 432x288 with 1 Axes>"
      ]
     },
     "metadata": {
      "needs_background": "light"
     },
     "output_type": "display_data"
    }
   ],
   "source": [
    "sampling_means['f'].plot.bar()"
   ]
  },
  {
   "cell_type": "markdown",
   "metadata": {},
   "source": [
    "## Properties of a Sampling Distribution\n",
    "- The mean of the sampling distribution ($\\mu_{\\bar{X}}$) equals the mean of the population. \n",
    "\n",
    "**Sampling Distribution Mean**\n",
    "\n",
    "$$\n",
    "\\mu_{\\bar{X}} = \\mu \n",
    "$$\n",
    "\n",
    "\n",
    "- The standard error of the mean ($\\sigma_{\\bar{X}}$) serves as a rough measure of the average amount by which sample means deviate from the mean of the sampling distribution or from the population mean. \n",
    "\n",
    "- The standard deviation of the sampling distribution, that is, the standard error of the mean, equals the standard deviation of the population divided by the square root of the sample size. \n",
    "\n",
    "\n",
    "\n",
    "**Standard Error**\n",
    "\n",
    "$$\n",
    "\\sigma_{\\bar{x}} = \\dfrac{\\sigma}{\\sqrt{n}}\n",
    "$$\n",
    "\n"
   ]
  },
  {
   "cell_type": "markdown",
   "metadata": {},
   "source": [
    "## Central Limit Theorem \n",
    "\n",
    "- According to the central limit theorem, regardless of the shape of the population, the shape of the sampling distribution approximates a normal curve if the sample size is sufficiently large. \n",
    "\n",
    "- Depending on the degree of non-normality in the parent population, a sample size of between 25 and 100 is sufficiently large. \n",
    "\n",
    "- Any single sample mean can be viewed as originating from a sampling distribution whose:\n",
    "    1. mean equals the population mean\n",
    "    2. standard error equals the population standard deviation divided by the square root of the sample size\n",
    "    3. shape approximates a normal curve (if sample size satisfies the requirements of the central limit theorem)\n"
   ]
  }
 ],
 "metadata": {
  "interpreter": {
   "hash": "949510482b8eeb0db0de64008f8e13a21a90dd06afd7a8e21dd837eed22f74f3"
  },
  "kernelspec": {
   "display_name": "Python 3.9.12 ('base')",
   "language": "python",
   "name": "python3"
  },
  "language_info": {
   "codemirror_mode": {
    "name": "ipython",
    "version": 3
   },
   "file_extension": ".py",
   "mimetype": "text/x-python",
   "name": "python",
   "nbconvert_exporter": "python",
   "pygments_lexer": "ipython3",
   "version": "3.9.12"
  },
  "orig_nbformat": 4
 },
 "nbformat": 4,
 "nbformat_minor": 2
}
