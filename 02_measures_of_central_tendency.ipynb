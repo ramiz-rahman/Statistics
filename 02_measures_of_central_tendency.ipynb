{
 "cells": [
  {
   "cell_type": "markdown",
   "metadata": {},
   "source": [
    "# 02: Measures of Central Tendency\n",
    "\n",
    "Numbers or words that attempt to describe, most generally, the middle or typical value for a distribution. \n",
    "\n",
    "#### Three types of averages (or measures of central tendency)\n",
    "\n",
    "1. **Mode** - The value of the most frequent score, usually indicates the typical score.  \n",
    "2. **Median** - The middle value when observations are ordered from least to most. This always has a percentile rank of 50. \n",
    "3. **Mean** - The mean is found by adding all dist and then dividing by the number of scores. It always describes the balance point of a distribution, i.e. the point where the sum of positive deviations is equal to the sum of negative deviations. \n",
    "\n",
    "<br />\n",
    "\n",
    "$$ \n",
    "Mean = \\dfrac{(sum \\, of \\, all \\, scores)}{(number \\, of \\, scores \\,)}\n",
    "$$\n",
    "\n",
    "<br />"
   ]
  },
  {
   "cell_type": "markdown",
   "metadata": {},
   "source": [
    "## Mode\n",
    "\n",
    "- *Bimodal* describes any distribution with two obvious peaks \n",
    "- *Multimodal* describes distributions with more than two peaks. "
   ]
  },
  {
   "cell_type": "code",
   "execution_count": 78,
   "metadata": {},
   "outputs": [],
   "source": [
    "def find_mode(dist): \n",
    "    \"\"\"Returns all the modes in the distrbution\"\"\"\n",
    "    max_count = 0 \n",
    "    count = dict()\n",
    "    for s in dist: \n",
    "        if s in count: \n",
    "            count[s] += 1\n",
    "        else:\n",
    "            count[s] = 1\n",
    "        if count[s] > max_count:\n",
    "            max_count = count[s]\n",
    "\n",
    "    modes = []\n",
    "    for s,c in count.items():\n",
    "        if  c == max_count:\n",
    "            modes.append(s)\n",
    "    return modes"
   ]
  },
  {
   "cell_type": "markdown",
   "metadata": {},
   "source": [
    "#### Example Problem \n",
    "Determine the mode for the following retirement ages:\n",
    "\n",
    "60, 63, 45, 63, 65, 70, 55, 63, 60, 65, 63."
   ]
  },
  {
   "cell_type": "code",
   "execution_count": 81,
   "metadata": {},
   "outputs": [
    {
     "data": {
      "text/plain": [
       "63"
      ]
     },
     "execution_count": 81,
     "metadata": {},
     "output_type": "execute_result"
    }
   ],
   "source": [
    "ages = [60, 63, 45, 63, 65, 70, 55, 63, 60, 65, 63]\n",
    "find_mode(ages)[0]"
   ]
  },
  {
   "cell_type": "markdown",
   "metadata": {},
   "source": [
    "#### Example Problem\n",
    "The owner of a new car conducts six gas mileage tests and obtains the following results, expressed in miles per gallon: 26.3, 28.7, 27.4, 26.6, 27.4, 26.9. Find\n",
    "the mode for these data."
   ]
  },
  {
   "cell_type": "code",
   "execution_count": 83,
   "metadata": {},
   "outputs": [
    {
     "data": {
      "text/plain": [
       "27.4"
      ]
     },
     "execution_count": 83,
     "metadata": {},
     "output_type": "execute_result"
    }
   ],
   "source": [
    "mpg = [26.3, 28.7, 27.4, 26.6, 27.4, 26.9]\n",
    "find_mode(mpg)[0]"
   ]
  },
  {
   "cell_type": "markdown",
   "metadata": {},
   "source": [
    "#### Example Problem\n",
    "\n",
    "To the question “During your lifetime, how often have you changed your permanent residence?” a group of 18 college students replied as follows: 1, 3, 4, 1, 0, 2, 5, 8, 0,\n",
    "2, 3, 4, 7, 11, 0, 2, 3, 3. Find the mode, median, and mean."
   ]
  },
  {
   "cell_type": "markdown",
   "metadata": {},
   "source": [
    "## Median "
   ]
  },
  {
   "cell_type": "code",
   "execution_count": 84,
   "metadata": {},
   "outputs": [],
   "source": [
    "def find_median(dist): \n",
    "    \"\"\"Find the middle value of a distribution\"\"\"\n",
    "\n",
    "    values = sorted(dist)\n",
    "\n",
    "    # No median for an empty list\n",
    "    median = None\n",
    "    if len(values) >= 1:\n",
    "\n",
    "        # Find the middle position \n",
    "        n = (len(values) + 1) // 2   \n",
    "\n",
    "        # If length is even \n",
    "        if len(values)  % 2 == 0: \n",
    "            # Average result of middle-1 and middle \n",
    "            median = (values[n-1] + values[n])/2 \n",
    "        # If length is odd \n",
    "\n",
    "        else:\n",
    "            # Value at the middle is the median \n",
    "            median = values[n]\n",
    "    return median\n"
   ]
  },
  {
   "cell_type": "markdown",
   "metadata": {},
   "source": [
    "#### Example Problem:\n",
    "\n",
    "Find the media for the following retirement ages: 60, 63, 45, 63, 65, 70, 55, 63, 60, 65, 63."
   ]
  },
  {
   "cell_type": "code",
   "execution_count": 85,
   "metadata": {},
   "outputs": [
    {
     "data": {
      "text/plain": [
       "63"
      ]
     },
     "execution_count": 85,
     "metadata": {},
     "output_type": "execute_result"
    }
   ],
   "source": [
    "ages = [60, 63, 45, 63, 65, 70, 55, 63, 60, 65, 63]\n",
    "find_median(ages)"
   ]
  },
  {
   "cell_type": "markdown",
   "metadata": {},
   "source": [
    "#### Example Problem:\n",
    "\n",
    "Find the median for the following gas mileage tests: 26.3, 28.7, 27.4, 26.6, 27.4, 26.9"
   ]
  },
  {
   "cell_type": "code",
   "execution_count": 87,
   "metadata": {},
   "outputs": [
    {
     "data": {
      "text/plain": [
       "27.15"
      ]
     },
     "execution_count": 87,
     "metadata": {},
     "output_type": "execute_result"
    }
   ],
   "source": [
    "mpg = [26.3, 28.7, 27.4, 26.6, 27.4, 26.9]\n",
    "find_median(mpg)"
   ]
  },
  {
   "cell_type": "markdown",
   "metadata": {},
   "source": [
    "## Mean \n",
    "\n",
    "- *Population* - a complete set of dist. \n",
    "- *Sample* - a subset of dist. \n",
    "- *Sample Size($n$)* - the total number of scores in the sample. \n",
    "- *Population Size($M$)* - the total number of scores in the population. \n",
    "\n",
    "**Sample Mean($\\bar{X}$)** - The balances point for a sample found by dividing the sum for the values of all scores in the sample by the number of scores in the sample. \n",
    "\n",
    "</br>\n",
    "\n",
    "$$\n",
    "\\bar{X} = \\dfrac{\\sum{X}}{n}\n",
    "$$\n",
    "\n",
    "</br>\n",
    "\n",
    "**Population Mean($\\mu$)** - The balance point for a population found by diving the sum for all scores in the population by the number of scores in population. \n",
    "\n",
    "</br>\n",
    "\n",
    "$$\n",
    "\\mu = \\dfrac{\\sum{X}}{N}\n",
    "$$\n",
    "\n",
    "</br>\n",
    "\n",
    "The mean reflects the value of all scores, not just those that are middle ranked (as with the median), or those that occur most frequently (as with the mode). "
   ]
  },
  {
   "cell_type": "code",
   "execution_count": 21,
   "metadata": {},
   "outputs": [],
   "source": [
    "def find_mean(dist):\n",
    "    return sum(dist)/len(dist)"
   ]
  },
  {
   "cell_type": "markdown",
   "metadata": {},
   "source": [
    "#### Example Problem:\n",
    "\n",
    "Find the mean for the following retirement ages: 60, 63, 45, 63, 65, 70, 55, 63, 60, 65, 63."
   ]
  },
  {
   "cell_type": "code",
   "execution_count": 88,
   "metadata": {},
   "outputs": [
    {
     "data": {
      "text/plain": [
       "61.09090909090909"
      ]
     },
     "execution_count": 88,
     "metadata": {},
     "output_type": "execute_result"
    }
   ],
   "source": [
    "ages = [60, 63, 45, 63, 65, 70, 55, 63, 60, 65, 63]\n",
    "find_mean(ages)"
   ]
  },
  {
   "cell_type": "markdown",
   "metadata": {},
   "source": [
    "#### Example Problem:\n",
    "\n",
    "Find the mean for the following gas mileage tests: 26.3, 28.7, 27.4, 26.6, 27.4, 26.9"
   ]
  },
  {
   "cell_type": "code",
   "execution_count": 89,
   "metadata": {},
   "outputs": [
    {
     "data": {
      "text/plain": [
       "27.21666666666667"
      ]
     },
     "execution_count": 89,
     "metadata": {},
     "output_type": "execute_result"
    }
   ],
   "source": [
    "mpg = [26.3, 28.7, 27.4, 26.6, 27.4, 26.9]\n",
    "find_mean(mpg)"
   ]
  },
  {
   "cell_type": "markdown",
   "metadata": {},
   "source": [
    "## Which Average \n",
    "\n",
    "- If the distribution is not skewed, the values of the mode, median and mean are similar, and any of them can be used to describe central tendency of the distribution. \n",
    "- If the distribution is skewed, the values of the three averages can differ appreciably. \n",
    "- The mean is very sensitive to extreme scores, or outliers. \n",
    "- Always report both the median and the mean if a distribution is skewed. \n",
    "\n",
    "</br>\n",
    "\n",
    "1. Positively skewed distribution \n",
    "\n",
    "$$ Mean > Median > Mode $$\n",
    "\n",
    "2. Negatively skewed distribution \n",
    "\n",
    "$$ Mean < Median < Mode $$\n",
    "\n",
    "</br>\n",
    "\n",
    "- The **Mean** is the single most preferred average for quantitative data. It, however, cannot be used with qualitative data. \n",
    "- The **Mode** can always be used with qualitative data\n",
    "- The **Median** can be used whenever it is possible to order qualitative data from least to most because the level of measurement is ordinal. For ordinal data, the median is class which has the percentile rank of 50 . "
   ]
  },
  {
   "cell_type": "markdown",
   "metadata": {},
   "source": [
    "#### Example \n",
    "\n",
    "College students were surveyed about where they would most like to spend their spring break: Daytona Beach (DB), Cancun, Mexico (C), South Padre Island (SP),\n",
    "Lake Havasu (LH), or other (O). The results were as follows"
   ]
  },
  {
   "cell_type": "code",
   "execution_count": 90,
   "metadata": {},
   "outputs": [
    {
     "data": {
      "text/plain": [
       "['DB']"
      ]
     },
     "execution_count": 90,
     "metadata": {},
     "output_type": "execute_result"
    }
   ],
   "source": [
    "destinations = ['DB', 'DB', 'C', 'LH', 'DB', 'C', 'SP', 'LH', 'DB', 'O', 'O', 'SP', 'C', 'DB', 'LH', 'DB', 'C', 'DB', 'O', 'DB']\n",
    "find_mode(destinations)"
   ]
  },
  {
   "cell_type": "markdown",
   "metadata": {},
   "source": [
    "### Example\n",
    "\n",
    "To the question “During your lifetime, how often have you changed your permanent residence?” a group of 18 college students replied as follows: 1, 3, 4, 1, 0, 2, 5, 8, 0,\n",
    "2, 3, 4, 7, 11, 0, 2, 3, 3. Find the mode, median, and mean."
   ]
  },
  {
   "cell_type": "code",
   "execution_count": 91,
   "metadata": {},
   "outputs": [
    {
     "data": {
      "text/plain": [
       "[1, 3, 4, 1, 0, 2, 5, 8, 0, 2, 3, 4, 7, 11, 0, 2, 3]"
      ]
     },
     "execution_count": 91,
     "metadata": {},
     "output_type": "execute_result"
    }
   ],
   "source": [
    "res_change = [1, 3, 4, 1, 0, 2, 5, 8, 0, 2, 3, 4, 7, 11, 0, 2, 3]\n",
    "\n",
    "res_change"
   ]
  },
  {
   "cell_type": "code",
   "execution_count": 92,
   "metadata": {},
   "outputs": [
    {
     "data": {
      "text/plain": [
       "3.2941176470588234"
      ]
     },
     "execution_count": 92,
     "metadata": {},
     "output_type": "execute_result"
    }
   ],
   "source": [
    "mean = find_mean(res_change)\n",
    "\n",
    "mean"
   ]
  },
  {
   "cell_type": "code",
   "execution_count": 93,
   "metadata": {},
   "outputs": [
    {
     "data": {
      "text/plain": [
       "3"
      ]
     },
     "execution_count": 93,
     "metadata": {},
     "output_type": "execute_result"
    }
   ],
   "source": [
    "median = find_median(res_change)\n",
    "median"
   ]
  },
  {
   "cell_type": "code",
   "execution_count": 94,
   "metadata": {},
   "outputs": [
    {
     "data": {
      "text/plain": [
       "[3, 0, 2]"
      ]
     },
     "execution_count": 94,
     "metadata": {},
     "output_type": "execute_result"
    }
   ],
   "source": [
    "mode = find_mode(res_change)\n",
    "mode"
   ]
  }
 ],
 "metadata": {
  "interpreter": {
   "hash": "949510482b8eeb0db0de64008f8e13a21a90dd06afd7a8e21dd837eed22f74f3"
  },
  "kernelspec": {
   "display_name": "Python 3.9.10 ('base')",
   "language": "python",
   "name": "python3"
  },
  "language_info": {
   "codemirror_mode": {
    "name": "ipython",
    "version": 3
   },
   "file_extension": ".py",
   "mimetype": "text/x-python",
   "name": "python",
   "nbconvert_exporter": "python",
   "pygments_lexer": "ipython3",
   "version": "3.9.10"
  },
  "orig_nbformat": 4
 },
 "nbformat": 4,
 "nbformat_minor": 2
}
