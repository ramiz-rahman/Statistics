{
 "cells": [
  {
   "cell_type": "markdown",
   "metadata": {},
   "source": [
    "# 09: Hypothesis Testing using the $z$ Test\n",
    "\n",
    "- To test a hypothesis about the population mean, a single observed sample mean is viewed within the context of a hypothesized sampling distribution, itself centered about the null-hypothesis population mean. \n",
    "\n",
    "- The sampling distribution is used as the frame of reference. \n",
    "\n",
    "- A common outcome is readily attributed to chance, and therefore the hypothesis that nothing special is happening - the null hypothesis - is retained.\n",
    "\n",
    "- A rare outcome isn't readily attributable to chance, and therefore, the null hypothesis is rejected. \n",
    "\n",
    "- An observed sample mean qualifies as a common outcome if the difference between its value and that of the hypothesized population mean is small enough to be viewed as a probable outcome under the null hypothesis. \n",
    "\n",
    "- An observed sample mean qualifies as a rare outcome if the difference between its value and the hypothesized mean is too large to be reasonably viewed as a probable outcome under the null hypothesis. \n",
    "\n",
    "\n"
   ]
  },
  {
   "cell_type": "markdown",
   "metadata": {},
   "source": [
    "## Sampling Distribution of z \n",
    "\n",
    "The distribution of z values that would be obtained if a value of z were calculated for each sample mean for all possible random samples of a given size from some population. \n",
    "\n",
    "\n",
    "$$\n",
    "z = \\dfrac{\\bar{X} - \\mu_{hyp}}{\\sigma_{\\bar{X}}}\n",
    "$$\n",
    "\n",
    "\n",
    "- **$z$ Test**: A hypothesis test that evaluates how far the observed sample mean deviates, in standard error units, from the hypothesized population mean. \n",
    "\n",
    "- $z$-test is only valid when: \n",
    "\n",
    "    1. The population is normally distributed or the sample size is large enough to satisfy the central limit theorem. \n",
    "\n",
    "    2. The population standard deviation is known. \n",
    "\n",
    "\n",
    "- **Null Hypothesis ($H_0$)**: A statistical hypothesis that usually asserts that nothing special is happening with respect to some characteristic of the underlying population. \n",
    "\n",
    "- **Alternative Hypothesis ($H_1$)**: The opposite of the null hypothesis. \n",
    "\n",
    "- **Research Hypothesis**: Usually identified with the alternative hypothesis, this is the informal hypothesis or hunch that inspires the entire investigation. \n",
    "\n",
    "- **Decision Rule**: Specifies when $H_0$ should be rejected (because the observed z qualifies as a rare outcome).\n",
    "\n",
    "- **Critical z Score**: A z score that separates common from rare outcomes and hence dictates whether $H_0$ should be retained or rejected. \n",
    "\n",
    "- **Level of Significance ($\\alpha$)**: The degree of rarity required of an observed outcome in order to reject the null hypothesis ($H_0$)\n",
    "\n",
    "\n"
   ]
  },
  {
   "cell_type": "code",
   "execution_count": 12,
   "metadata": {},
   "outputs": [],
   "source": [
    "import numpy as np\n",
    "import pandas as pd \n",
    "from scipy.stats import norm \n",
    "import matplotlib.pyplot as plt \n",
    "import math\n"
   ]
  },
  {
   "cell_type": "code",
   "execution_count": 4,
   "metadata": {},
   "outputs": [],
   "source": [
    "def std_err(sigma, n): \n",
    "    return (sigma / (math.sqrt(n)))"
   ]
  },
  {
   "cell_type": "code",
   "execution_count": 5,
   "metadata": {},
   "outputs": [],
   "source": [
    "def calc_z(val, mu, std_err):\n",
    "    return (val - mu)/std_err"
   ]
  },
  {
   "cell_type": "markdown",
   "metadata": {},
   "source": [
    "#### Example \n",
    "Calculate the value of the z test for each of the following situations:\n",
    "\n",
    "(a) $\\bar{X}$ = 566; $\\sigma$ = 30; n = 36; $\\mu_{hyp}$ = 560\n",
    "\n",
    "(b) $\\bar{X}$ = 24; $\\sigma$ = 4; n = 64; $\\mu_{hyp}$ = 25\n",
    "\n",
    "(c) $\\bar{X}$ = 82; $\\sigma$ = 14; n = 49; $\\mu_{hyp}$ = 75\n",
    "\n",
    "(d) $\\bar{X}$ = 136; $\\sigma$ = 15; n = 25; $\\mu_{hyp}$ = 146"
   ]
  },
  {
   "cell_type": "code",
   "execution_count": 6,
   "metadata": {},
   "outputs": [
    {
     "data": {
      "text/plain": [
       "1.2"
      ]
     },
     "execution_count": 6,
     "metadata": {},
     "output_type": "execute_result"
    }
   ],
   "source": [
    "# (a)\n",
    "err = std_err(30, 36)\n",
    "calc_z(566, 560, err)"
   ]
  },
  {
   "cell_type": "code",
   "execution_count": 8,
   "metadata": {},
   "outputs": [
    {
     "data": {
      "text/plain": [
       "-2.0"
      ]
     },
     "execution_count": 8,
     "metadata": {},
     "output_type": "execute_result"
    }
   ],
   "source": [
    "# (b)\n",
    "err = std_err(4, 64)\n",
    "calc_z(24, 25, err)"
   ]
  },
  {
   "cell_type": "code",
   "execution_count": 10,
   "metadata": {},
   "outputs": [
    {
     "data": {
      "text/plain": [
       "3.5"
      ]
     },
     "execution_count": 10,
     "metadata": {},
     "output_type": "execute_result"
    }
   ],
   "source": [
    "# (c)\n",
    "err = std_err(14, 49)\n",
    "calc_z(82, 75, err)"
   ]
  },
  {
   "cell_type": "code",
   "execution_count": 7,
   "metadata": {},
   "outputs": [
    {
     "data": {
      "text/plain": [
       "-3.3333333333333335"
      ]
     },
     "execution_count": 7,
     "metadata": {},
     "output_type": "execute_result"
    }
   ],
   "source": [
    "# (d)\n",
    "err = std_err(15, 25)\n",
    "calc_z(136, 146, err)"
   ]
  },
  {
   "cell_type": "markdown",
   "metadata": {},
   "source": [
    "## Procedure for Conducting z Test\n",
    "\n",
    "1. State the research problem using words\n",
    "2. Identify the statistical hypotheses \n",
    "    - $H_0$: $\\mu \\, =$ some number \n",
    "    - $H_1$: $\\mu \\, \\neq$ some number\n",
    "3. Specify a decision rule that indicates when $H_0$ should be rejected. \n",
    "4. Calculate the value of the observed $z$. \n",
    "5. Make a decision that either rejects or retains $H_0$ at the specified level of significance. \n",
    "6. Interpret the decision using words. "
   ]
  },
  {
   "cell_type": "markdown",
   "metadata": {},
   "source": [
    "### Example: SAT SCORES \n",
    "\n",
    "**Research Problem**\n",
    "Does the mean SAT math score for all local freshman differ from the national average of 500? \n",
    "\n",
    "**Statistical Hypotheses**\n",
    "\n",
    "$H_0: \\mu = 500$ \n",
    "\n",
    "$H_1: \\mu \\neq 500$\n",
    "\n",
    "\n",
    "**Decision Rule**\n",
    "Reject $H_0$ at the .05 level of significance if $z >= 1.96$ or if $z <= -1.96$\n",
    "\n",
    "**Calculations**\n",
    "\n",
    "Given\n",
    "\n",
    "$$\n",
    "\\bar{X} = 533;\\, \\mu_{hyp} = 500;\\, \\sigma_{\\bar{X}} = \\dfrac{\\sigma}{\\sqrt{n}} = \\dfrac{100}{\\sqrt{100}} = 11\n",
    "$$\n",
    "\n",
    "$$\n",
    "z = \\dfrac{533 - 500}{11} = 3\n",
    "$$\n",
    "\n",
    "**Decision**\n",
    "Reject $H_0$ at the .05 level of significance because $z = 3$ exceeds 1.96. \n",
    "\n",
    "**Interpretation**\n",
    "The mean SAT math score for all local freshman does not equal - it exceeds - the national average of 500. "
   ]
  },
  {
   "cell_type": "code",
   "execution_count": 41,
   "metadata": {},
   "outputs": [
    {
     "data": {
      "text/plain": [
       "[<matplotlib.lines.Line2D at 0x16e8a9640>]"
      ]
     },
     "execution_count": 41,
     "metadata": {},
     "output_type": "execute_result"
    },
    {
     "data": {
      "image/png": "[encoded data removed]",
      "text/plain": [
       "<Figure size 576x432 with 1 Axes>"
      ]
     },
     "metadata": {},
     "output_type": "display_data"
    }
   ],
   "source": [
    "plt.style.use('fivethirtyeight')\n",
    "fig, ax = plt.subplots(figsize=(8, 6))\n",
    "\n",
    "x_all = np.arange(-10, 10, 0.001)\n",
    "y_all = norm.pdf(x_all)\n",
    "\n",
    "ax.plot(x_all, y_all)\n",
    "ax.set_xlim(-4, 4)\n",
    "ax.set_yticklabels([])\n",
    "\n",
    "z, z1, z2 = 3, -1.96, 1.96\n",
    "\n",
    "x1 = np.arange(-10, z1, 0.001)\n",
    "x2 = np.arange(z2, 10, 0.001)\n",
    "\n",
    "y1 = norm.pdf(x1)\n",
    "y2 = norm.pdf(x2)\n",
    "\n",
    "ax.fill_between(x1, y1, color='#b2bd7e')\n",
    "ax.fill_between(x2, y2, color='#b2bd7e')\n",
    "\n",
    "ax.plot([3, 3], [0, 0.4], color='#6a5d7b')\n"
   ]
  },
  {
   "cell_type": "markdown",
   "metadata": {},
   "source": [
    "### Example \n",
    "\n",
    "According to the American Psychological Association, members with a doctorate and a full-time teaching appointment earn, on the average, $82,500 per year,\n",
    "with a standard deviation of $6,000. An investigator wishes to determine whether $82,500 is also the mean salary for all female members with a doctorate and a full-time teaching appointment. Salaries are obtained for a random sample of 100 women from this population, and the\n",
    "mean salary equals $80,100."
   ]
  },
  {
   "cell_type": "markdown",
   "metadata": {},
   "source": [
    "(a) Someone claims that the observed difference between $80,100 and $82,500 is large enough by itself to support the conclusion that female members earn less than male\n",
    "members. Explain why it is important to conduct a hypothesis test.\n",
    "\n",
    "**ANS:**\n",
    "The observed difference between $80,100 and $82,500 cannot be interpreted at face value, as it could have happened by chance. A hypothesis test permits us to evaluate the effect of chance by measuring the observed difference relative to the standard error of the mean. "
   ]
  },
  {
   "cell_type": "markdown",
   "metadata": {},
   "source": [
    "(b) The investigator wishes to conduct a hypothesis test for what population?\n",
    "\n",
    "**ANS:** All female members of the American Psychological Association who have a doctorate and a full time teaching appointment. "
   ]
  },
  {
   "cell_type": "markdown",
   "metadata": {},
   "source": [
    "(c) What is the null hypothesis, $H_0$?\n",
    "\n",
    "Female members of the American Psychological Association who have a doctorate and a full time teaching position earn $82,500 on average. \n",
    "\n",
    "$$\n",
    "H_0: \\mu = 82,500\n",
    "$$"
   ]
  },
  {
   "cell_type": "markdown",
   "metadata": {},
   "source": [
    "(d) What is the alternative hypothesis, H1?\n",
    "\n",
    "Female members of the American Psychological Association who have a doctorate and a full time teaching position do not earn $82,500 on average. \n",
    "\n",
    "$$\n",
    "H_1: \\mu \\neq 82,500\n",
    "$$"
   ]
  },
  {
   "cell_type": "markdown",
   "metadata": {},
   "source": [
    "(e) Specify the decision rule, using the .05 level of significance. \n",
    "\n",
    "Reject $H_0$ at the .05 level of significance if $z <= -1.96$ or if $z >= 1.96$"
   ]
  },
  {
   "cell_type": "markdown",
   "metadata": {},
   "source": [
    "(f) Calculate the value of z. (Remember to convert the standard deviation to a standard error.)"
   ]
  },
  {
   "cell_type": "code",
   "execution_count": 43,
   "metadata": {},
   "outputs": [
    {
     "data": {
      "text/plain": [
       "-4.0"
      ]
     },
     "execution_count": 43,
     "metadata": {},
     "output_type": "execute_result"
    }
   ],
   "source": [
    "error = std_err(sigma=6000, n=100)\n",
    "z = calc_z(val=80100, mu=82500, std_err=error)\n",
    "\n",
    "z"
   ]
  },
  {
   "cell_type": "markdown",
   "metadata": {},
   "source": [
    "(g) What is your decision about $H_0$?\n",
    "\n",
    "Reject $H_0$ at the $.05$ significance level because $z=-4.0$ is more negative than $-1.96$. "
   ]
  },
  {
   "cell_type": "markdown",
   "metadata": {},
   "source": [
    "(h) Using words, interpret this decision in terms of the original problem.\n",
    "\n",
    "Female members of the American Psychological Association with a doctorate and a full-time teaching appointment do not earn equal to, but less than the average of $82,500."
   ]
  },
  {
   "cell_type": "markdown",
   "metadata": {},
   "source": [
    "### Example\n",
    "\n",
    "For the population at large, the Wechsler Adult Intelligence Scale is designed to yield a normal distribution of test scores with a mean of 100 and a standard deviation of 15. School district officials wonder whether, on the average, an IQ score different\n",
    "from 100 describes the intellectual aptitudes of all students in their district. Wechsler IQ scores are obtained for a random sample of 25 of their students, and the mean IQ is found to equal 105. Using the step-by-step procedure described in this chapter, test the null hypothesis at the .05 level of significance."
   ]
  },
  {
   "cell_type": "markdown",
   "metadata": {},
   "source": [
    "**STEP 1: Research Problem**\n",
    "\n",
    "Is the average Wechsler IQ score of students in a school district different from the national average of 100? \n",
    "\n",
    "**STEP 2: Statistical Hypotheses**\n",
    "\n",
    "$H_0: \\mu = 100$\n",
    "\n",
    "$H_1: \\mu \\neq 100$\n",
    "\n",
    "**STEP 3: Decision Rule**\n",
    "\n",
    "Reject $H_0$ at the $.05$ significance level if $z >= 1.96$ or if $z <= -1.96$\n",
    "\n",
    "\n",
    "**STEP 4: Calculation**"
   ]
  },
  {
   "cell_type": "code",
   "execution_count": 44,
   "metadata": {},
   "outputs": [
    {
     "data": {
      "text/plain": [
       "1.6666666666666667"
      ]
     },
     "execution_count": 44,
     "metadata": {},
     "output_type": "execute_result"
    }
   ],
   "source": [
    "error = std_err(sigma=15, n=25)\n",
    "z = calc_z(val=105, mu=100, std_err=error)\n",
    "z"
   ]
  },
  {
   "cell_type": "markdown",
   "metadata": {},
   "source": [
    "**STEP 5: Decision**\n",
    "\n",
    "Retain $H_0$ at the $.05$ level of significance as $z$ of $1.67$ is less positive than $1.96$\n",
    "\n",
    "**STEP 6: Interpretation**\n",
    "\n",
    "There is no evidence that the mean ID of all students differ from 100. "
   ]
  }
 ],
 "metadata": {
  "interpreter": {
   "hash": "949510482b8eeb0db0de64008f8e13a21a90dd06afd7a8e21dd837eed22f74f3"
  },
  "kernelspec": {
   "display_name": "Python 3.9.12 ('base')",
   "language": "python",
   "name": "python3"
  },
  "language_info": {
   "codemirror_mode": {
    "name": "ipython",
    "version": 3
   },
   "file_extension": ".py",
   "mimetype": "text/x-python",
   "name": "python",
   "nbconvert_exporter": "python",
   "pygments_lexer": "ipython3",
   "version": "3.9.12"
  },
  "orig_nbformat": 4
 },
 "nbformat": 4,
 "nbformat_minor": 2
}
