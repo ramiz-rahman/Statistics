{
 "cells": [
  {
   "cell_type": "markdown",
   "metadata": {},
   "source": [
    "# 03: Measures of Variability \n",
    "\n",
    "**Measures of Variability** refers to the descriptions of the amounts by which scores are dispersed or scattered within a distribution. \n",
    "\n",
    "- Statistics flourishes because we live in a world of variability.\n",
    "- When summarizing data, it is critical that we specify both measures of central tendency and measures of variability.\n",
    "\n",
    "- Measures of variability are nonexistent for nominal data. It is best to categorize variability in terms of maximum, intermediate and minimum variability. \n",
    "\n",
    "- For ordinal data, variability can be described using extreme scores. \n",
    "\n",
    "</br> \n",
    "\n",
    "- **Range**: The difference between the largest and smallest scores. It's not a stable measure of variability because the size of the range tends to vary with the size of the group. Moreover, it fails to use information provided by the scores within the range. \n",
    "\n",
    "- **Variance**: The mean of all squared deviation scores.\n",
    "\n",
    "- **Standard Deviation**: The rough measure of the average (or standard) amount by which scores deviate on either side of their mean. It's the square root of the variance. \n",
    "\n",
    "- **Interquartile Range (IQR)**: The range for the middle 50 percent of the scores. It equals the distance between the third quartile (or 75th percentile) and the first quartile (or 25th percentile). It is not sensitive to the distorting effect of extreme scores. \n"
   ]
  },
  {
   "cell_type": "code",
   "execution_count": 36,
   "metadata": {},
   "outputs": [],
   "source": [
    "import math\n",
    "import pandas as pd"
   ]
  },
  {
   "cell_type": "markdown",
   "metadata": {},
   "source": [
    "### Worked Example \n",
    "\n",
    "Determine the values of the range and the IQR for the following sets of data.\n",
    "\n",
    "(a) Retirement ages: 60, 63, 45, 63, 65, 70, 55, 63, 60, 65, 63\n",
    "\n",
    "(b) Residence changes: 1, 3, 4, 1, 0, 2, 5, 8, 0, 2, 3, 4, 7, 11, 0, 2, 3, 4"
   ]
  },
  {
   "cell_type": "code",
   "execution_count": 37,
   "metadata": {},
   "outputs": [
    {
     "name": "stdout",
     "output_type": "stream",
     "text": [
      "Range = 25, IQR = 5\n"
     ]
    }
   ],
   "source": [
    "ret_ages = pd.Series([60, 63, 45, 63, 65, 70, 55, 63, 60, 65, 63])\n",
    "\n",
    "\n",
    "range = ret_ages.max() - ret_ages.min()\n",
    "iqr = ret_ages.quantile(.75, interpolation='nearest') - ret_ages.quantile(.25, interpolation='nearest')\n",
    "\n",
    "print(f'Range = {range}, IQR = {iqr}')"
   ]
  },
  {
   "cell_type": "code",
   "execution_count": 38,
   "metadata": {},
   "outputs": [
    {
     "name": "stdout",
     "output_type": "stream",
     "text": [
      "Range = 11, IQR = 3\n"
     ]
    }
   ],
   "source": [
    "res_changes = pd.Series([1, 3, 4, 1, 0, 2, 5, 8, 0, 2, 3, 4, 7, 11, 0, 2, 3, 4])\n",
    "\n",
    "\n",
    "range = res_changes.max() - res_changes.min()\n",
    "iqr = res_changes.quantile(.75, interpolation='nearest') - res_changes.quantile(.25, interpolation='nearest')\n",
    "\n",
    "print(f'Range = {range}, IQR = {iqr}')"
   ]
  },
  {
   "cell_type": "markdown",
   "metadata": {},
   "source": [
    "## Calculating Standard Deviations \n",
    "\n",
    "- For most frequency distributions, a majority (often as many as 68 percent) of all scores are within one standard deviation on either side of the mean. \n",
    "\n",
    "- For most frequency distributions, a small minority (often as small as 5 percent) of all scores deviate more than two standard deviations on either side of the mean.\n",
    "\n",
    "-  The mean is a measure of position, but the standard deviation is a measure of distance (on either side of the mean of the distribution)\n",
    "\n",
    "- The value of the standard deviation can never be negative. \n",
    "\n",
    "\n",
    "- **Sum of Squares (SS)**: The sum of squared deviation scores. \n",
    "\n",
    "$$ \n",
    "SS = \\sum{(X-\\mu)^2}\n",
    "$$\n",
    "\n",
    "1. Subtract the population mean, $\\mu$ from each original score, $X$, to obtain a deviation scores, $X - \\mu$. \n",
    "2. Square each deviation score, $(X-\\mu)^2$, to eliminate negative signs. \n",
    "3. Sum all squared deviation scores, $\\sum{(X-\\mu)^2}$. \n",
    "\n",
    "There is a more efficient computation formula which is the algebraic derivation of the aforementioned formula. \n",
    "\n",
    "$$\n",
    "SS = \\sum{X^2} - \\dfrac{(\\sum{X})^2}{N}\n",
    "$$"
   ]
  },
  {
   "cell_type": "markdown",
   "metadata": {},
   "source": [
    "- For samples, the formula is same, with the sample notations ($\\bar{X}$, $n$) replacing population symbols ($\\mu$, $N$)\n",
    "\n",
    "$$\n",
    "SS = \\sum{(X - \\bar{X})^2}\n",
    "$$\n",
    "\n",
    "$$\n",
    "SS = \\sum{X^2} - \\dfrac{(\\sum{X})^2}{n}\n",
    "$$"
   ]
  },
  {
   "cell_type": "markdown",
   "metadata": {},
   "source": [
    "$$\n",
    "variance = \\dfrac{sum \\, of \\, all \\, squared \\, deviation \\, scores}{number \\, of \\, squares}\n",
    "$$\n",
    "\n",
    "##### Variance for population \n",
    "$$\n",
    "\\sigma^2 = \\dfrac{SS}{N}\n",
    "$$\n",
    "\n",
    "##### Standard deviation for population \n",
    "$$\n",
    "\\sigma = \\sqrt{\\sigma^2} = \\sqrt{\\dfrac{SS}{N}}\n",
    "$$"
   ]
  },
  {
   "cell_type": "markdown",
   "metadata": {},
   "source": [
    "##### Variance for sample\n",
    "\n",
    "Though the $SS$ remains, the same, the denominator is changed to $n-1$ \n",
    "\n",
    "$$\n",
    "s^2 = \\dfrac{SS}{n-1}\n",
    "$$\n",
    "\n",
    "##### Standard deviation for sample \n",
    "$$\n",
    "s = \\sqrt{s^2} = \\sqrt{\\dfrac{SS}{n-1}}\n",
    "$$\n",
    "\n",
    "- In most instances, the standard deviation is less than one-half the size of the range. "
   ]
  },
  {
   "cell_type": "markdown",
   "metadata": {},
   "source": [
    "### Worked Examples "
   ]
  },
  {
   "cell_type": "code",
   "execution_count": 39,
   "metadata": {},
   "outputs": [
    {
     "name": "stdout",
     "output_type": "stream",
     "text": [
      "SS = 6.0, Variance = 2.0, SD = 1.4142135623730951\n"
     ]
    }
   ],
   "source": [
    "samples = [1, 3, 4, 4]\n",
    "\n",
    "ss = sum([x**2 for x in samples]) - ( (sum(samples)**2) / len(samples))\n",
    "\n",
    "variance = ss/(len(samples) - 1)\n",
    "\n",
    "sd = math.sqrt(variance)\n",
    "\n",
    "print(f'SS = {ss}, Variance = {variance}, SD = {sd}')"
   ]
  },
  {
   "cell_type": "code",
   "execution_count": 40,
   "metadata": {},
   "outputs": [
    {
     "name": "stdout",
     "output_type": "stream",
     "text": [
      "SS = 45.875, Variance = 5.734375, SD = 2.394655507583502\n"
     ]
    }
   ],
   "source": [
    "population = [1, 3, 7, 2, 0, 4, 7, 3]\n",
    "\n",
    "ss = sum([x**2 for x in population]) - ( (sum(population)**2) / len(population))\n",
    "\n",
    "variance = ss/len(population)\n",
    "\n",
    "sd = math.sqrt(variance)\n",
    "\n",
    "print(f'SS = {ss}, Variance = {variance}, SD = {sd}')"
   ]
  },
  {
   "cell_type": "code",
   "execution_count": 41,
   "metadata": {},
   "outputs": [
    {
     "data": {
      "text/plain": [
       "2.394655507583502"
      ]
     },
     "execution_count": 41,
     "metadata": {},
     "output_type": "execute_result"
    }
   ],
   "source": [
    "ser = pd.Series([1, 3, 7, 2, 0, 4, 7, 3])\n",
    "\n",
    "ser.std(ddof=0)"
   ]
  },
  {
   "cell_type": "code",
   "execution_count": 42,
   "metadata": {},
   "outputs": [
    {
     "name": "stdout",
     "output_type": "stream",
     "text": [
      "SS = 119.55555555555554, Variance = 14.944444444444443, SD = 3.865804501581067\n"
     ]
    }
   ],
   "source": [
    "samples = [10, 8, 5, 0, 1, 1, 7, 9, 2]\n",
    "\n",
    "ss = sum([x**2 for x in samples]) - ( (sum(samples)**2) / len(samples))\n",
    "\n",
    "variance = ss/(len(samples) - 1)\n",
    "\n",
    "sd = math.sqrt(variance)\n",
    "\n",
    "print(f'SS = {ss}, Variance = {variance}, SD = {sd}')"
   ]
  },
  {
   "cell_type": "code",
   "execution_count": 43,
   "metadata": {},
   "outputs": [
    {
     "data": {
      "text/plain": [
       "3.8658045015810676"
      ]
     },
     "execution_count": 43,
     "metadata": {},
     "output_type": "execute_result"
    }
   ],
   "source": [
    "ser = pd.Series([10, 8, 5, 0, 1, 1, 7, 9, 2])\n",
    "\n",
    "ser.std()"
   ]
  },
  {
   "cell_type": "markdown",
   "metadata": {},
   "source": [
    "## Degree of Freedom \n",
    "\n",
    "- **Degree of Freedom (df)**: The number of values free to vary given one or more mathematical restrictions, in a sample being used to estimate a population characteristic.\n",
    "\n",
    "- using $n$ instead of $n-1$ when calculating sample variance would usually result in an underestimate of variability.\n",
    "\n",
    "- When $\\mu$ is unknown, only $n-1$ deviations are free to vary because the absolute value of the summation of $n-1$ variables must equal to the absolute value of the remaining variable due to the zero-sum restriction. Since one bit of valid information is lost when the sample mean replaces the population mean, we need to use $n-1$ to obtain a correct estimate of the variability. \n",
    "\n",
    "- Degree of freedom is only important when we are using scores in a sample to *estimate* some unknown characteristic of the population. \n",
    "\n",
    "- **zero-sum restriction**: When all observations are expressed as deviations from their mean, the sum of all deviations must equal zero. \n"
   ]
  }
 ],
 "metadata": {
  "interpreter": {
   "hash": "949510482b8eeb0db0de64008f8e13a21a90dd06afd7a8e21dd837eed22f74f3"
  },
  "kernelspec": {
   "display_name": "Python 3.9.10 ('base')",
   "language": "python",
   "name": "python3"
  },
  "language_info": {
   "codemirror_mode": {
    "name": "ipython",
    "version": 3
   },
   "file_extension": ".py",
   "mimetype": "text/x-python",
   "name": "python",
   "nbconvert_exporter": "python",
   "pygments_lexer": "ipython3",
   "version": "3.9.10"
  },
  "orig_nbformat": 4
 },
 "nbformat": 4,
 "nbformat_minor": 2
}
