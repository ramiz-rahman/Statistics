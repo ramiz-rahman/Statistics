{
 "cells": [
  {
   "cell_type": "markdown",
   "metadata": {},
   "source": [
    "# 05: Correlations \n",
    "\n",
    "The presence of regularity among pairs of X and Y scores indicates that the two variables are related, and te absence of any regularity suggests that the two variables are, at most, only slightly related. \n",
    "\n",
    "- **Positive Relationship**: Occurs insofar as pairs of scores tend to occupy similar relative positions (high with high and low with low) in their respective distributions. \n",
    "\n",
    "- **Negative Relationship**: Occurs insofar as pairs of scores tend to occupy dissimilar relative positions (high with low and vice versa) in their respective distributions. \n",
    "\n",
    "- **Scatterplot**: A graph containing a cluster of dots that represents all pairs of scores. \n",
    "\n",
    "- **Linear Relationship**: A relationship that can be described best with a straight line. \n",
    "\n",
    "- **Curvilinear Relationship**: A relationship that can be described best with a curved line. \n",
    "\n",
    "- **Correlation Coefficient**: A number between -1 and 1 that describes the relationship between pairs of variables. \n",
    "\n",
    "- **Pearson Correlation Coefficient (r)**: A number between -1.00 and +1.00 that describes the linear relationship between pairs of quantitative variables. \n",
    "\n",
    "        - r in the vicinity of 0.10 or less reflects a weak relationship \n",
    "        - r in the vicinity of 0.30 reflects a moderate relationship\n",
    "        - r in the vicinity of 0.50 or more reflects a strong relationship \n",
    "\n",
    "- A correlation coefficient, regardless of size, never provides information about whether an observed relationship reflects a simple cause-effect relationship or some more complex state of affairs. \n",
    "\n",
    "- **Correlation Matrix**: Table showing correlations for all possible pairs of variables. "
   ]
  },
  {
   "cell_type": "code",
   "execution_count": 47,
   "metadata": {},
   "outputs": [],
   "source": [
    "import numpy as np\n",
    "import pandas as pd \n",
    "import matplotlib.pyplot as plt\n",
    "import seaborn as sns \n",
    "\n",
    "import math"
   ]
  },
  {
   "cell_type": "code",
   "execution_count": 48,
   "metadata": {},
   "outputs": [
    {
     "data": {
      "text/html": [
       "<div>\n",
       "<style scoped>\n",
       "    .dataframe tbody tr th:only-of-type {\n",
       "        vertical-align: middle;\n",
       "    }\n",
       "\n",
       "    .dataframe tbody tr th {\n",
       "        vertical-align: top;\n",
       "    }\n",
       "\n",
       "    .dataframe thead th {\n",
       "        text-align: right;\n",
       "    }\n",
       "</style>\n",
       "<table border=\"1\" class=\"dataframe\">\n",
       "  <thead>\n",
       "    <tr style=\"text-align: right;\">\n",
       "      <th></th>\n",
       "      <th>Sent</th>\n",
       "      <th>Received</th>\n",
       "    </tr>\n",
       "  </thead>\n",
       "  <tbody>\n",
       "    <tr>\n",
       "      <th>Doris</th>\n",
       "      <td>13</td>\n",
       "      <td>14</td>\n",
       "    </tr>\n",
       "    <tr>\n",
       "      <th>Steve</th>\n",
       "      <td>9</td>\n",
       "      <td>18</td>\n",
       "    </tr>\n",
       "    <tr>\n",
       "      <th>Mike</th>\n",
       "      <td>7</td>\n",
       "      <td>12</td>\n",
       "    </tr>\n",
       "    <tr>\n",
       "      <th>Andrea</th>\n",
       "      <td>5</td>\n",
       "      <td>10</td>\n",
       "    </tr>\n",
       "    <tr>\n",
       "      <th>John</th>\n",
       "      <td>1</td>\n",
       "      <td>6</td>\n",
       "    </tr>\n",
       "  </tbody>\n",
       "</table>\n",
       "</div>"
      ],
      "text/plain": [
       "        Sent  Received\n",
       "Doris     13        14\n",
       "Steve      9        18\n",
       "Mike       7        12\n",
       "Andrea     5        10\n",
       "John       1         6"
      ]
     },
     "execution_count": 48,
     "metadata": {},
     "output_type": "execute_result"
    }
   ],
   "source": [
    "df = pd.DataFrame([[13, 14], [9, 18], [7, 12], [5, 10], [1, 6]], index=['Doris', 'Steve', 'Mike', 'Andrea', 'John'], columns=['Sent', 'Received'])\n",
    "\n",
    "df"
   ]
  },
  {
   "cell_type": "code",
   "execution_count": 49,
   "metadata": {},
   "outputs": [
    {
     "data": {
      "text/plain": [
       "<AxesSubplot:xlabel='Sent', ylabel='Received'>"
      ]
     },
     "execution_count": 49,
     "metadata": {},
     "output_type": "execute_result"
    },
    {
     "data": {
      "image/png": "[encoded data removed]",
      "text/plain": [
       "<Figure size 432x288 with 1 Axes>"
      ]
     },
     "metadata": {
      "needs_background": "light"
     },
     "output_type": "display_data"
    }
   ],
   "source": [
    "sns.scatterplot(x='Sent', y='Received', data=df)"
   ]
  },
  {
   "cell_type": "markdown",
   "metadata": {},
   "source": [
    "- A dot cluster that has a slope from lower left to upper right reflects a positive relationship. \n",
    "\n",
    "- A dot cluster that has a slope from upper left to lower right reflects a negative relationship. \n",
    "\n",
    "- A dot cluster that lacks any apparent slope reflects little or no relationship. \n",
    "\n",
    "- The more closely a dot cluster approximates a straight line, the stronger (the more regular) the relationship will be. "
   ]
  },
  {
   "cell_type": "markdown",
   "metadata": {},
   "source": [
    "## Correlation Coefficient \n",
    "\n",
    "- **Correlation Coefficient**: A number between -1 and 1 that describes the relationship between pairs of variables. \n",
    "\n",
    "- **Pearson Correlation Coefficient (r)**: A number between -1.00 and +1.00 that describes the linear relationship between pairs of quantitative variables.\n",
    "\n",
    "- The sign of $r$ indicates the type of linear relationship, whether positive or negative. \n",
    "\n",
    "- The numerical value of $r$, without regard to sign, indicates the strength of the linear relationship. \n",
    "\n",
    "        - r in the vicinity of 0.10 or less reflects a weak relationship \n",
    "        - r in the vicinity of 0.30 reflects a moderate relationship\n",
    "        - r in the vicinity of 0.50 or more reflects a strong relationship \n",
    "\n",
    "- $r$ is independent of units of measurement. The value of $r$ depends only on the pattern among pairs of scores. \n",
    "\n",
    "- Range restrictions will usually cause the numerical value of $r$ to decline. \n",
    "\n",
    "- The value of $r$ cannot be interpreted as a proportion or percentage of some perfect relationship. \n",
    "\n",
    "- $r$ is sensitive to outliers and thus, it is best practice to include the value of $r$ both with and without outliers\n",
    "\n",
    "- A correlation coefficient, regardless of size, never provides information about whether an observed relationship reflects a simple cause-effect relationship or some more complex state of affairs. \n",
    "\n",
    "\n",
    "$$\n",
    "r = \\dfrac{SP_{xy}}{\\sqrt{SS_xSS_y}}\n",
    "$$\n",
    "\n",
    "</br>\n",
    "\n",
    "$$\n",
    "SS_x = \\sum{(X - \\bar{X})^2} = \\sum(X^2) - \\dfrac{(\\sum{X})^2}{n}\n",
    "$$\n",
    "\n",
    "$$\n",
    "SS_y = \\sum{(Y - \\bar{Y})^2} = \\sum(Y^2) - \\dfrac{(\\sum{Y})^2}{n}\n",
    "$$\n",
    "\n",
    "</br>\n",
    "\n",
    "$$\n",
    "SP_{xy} = \\sum{(X - \\bar{X})(Y - \\bar{Y})} = \\sum{XY} - \\dfrac{(\\sum{X})(\\sum{Y})}{n}\n",
    "$$"
   ]
  },
  {
   "cell_type": "code",
   "execution_count": 50,
   "metadata": {},
   "outputs": [],
   "source": [
    "def ss(X): \n",
    "    m = sum(X)/len(X)\n",
    "    return sum([(x - m)**2 for x in X])"
   ]
  },
  {
   "cell_type": "code",
   "execution_count": 51,
   "metadata": {},
   "outputs": [],
   "source": [
    "def spxy(X, Y): \n",
    "     mx = sum(X)/len(X)\n",
    "     my = sum(Y)/len(Y)\n",
    "     XY = []\n",
    "     for i in range(len(X)):\n",
    "          XY.append((X[i], Y[i]))\n",
    "     return sum((x-mx)*(y-my) for x,y in XY)"
   ]
  },
  {
   "cell_type": "code",
   "execution_count": 52,
   "metadata": {},
   "outputs": [],
   "source": [
    "def pearson_r(X, Y): \n",
    "    return spxy(X, Y) / (math.sqrt(ss(X)*ss(Y)))"
   ]
  },
  {
   "cell_type": "code",
   "execution_count": 53,
   "metadata": {},
   "outputs": [
    {
     "data": {
      "text/html": [
       "<div>\n",
       "<style scoped>\n",
       "    .dataframe tbody tr th:only-of-type {\n",
       "        vertical-align: middle;\n",
       "    }\n",
       "\n",
       "    .dataframe tbody tr th {\n",
       "        vertical-align: top;\n",
       "    }\n",
       "\n",
       "    .dataframe thead th {\n",
       "        text-align: right;\n",
       "    }\n",
       "</style>\n",
       "<table border=\"1\" class=\"dataframe\">\n",
       "  <thead>\n",
       "    <tr style=\"text-align: right;\">\n",
       "      <th></th>\n",
       "      <th>X</th>\n",
       "      <th>Y</th>\n",
       "    </tr>\n",
       "  </thead>\n",
       "  <tbody>\n",
       "    <tr>\n",
       "      <th>A</th>\n",
       "      <td>1</td>\n",
       "      <td>2</td>\n",
       "    </tr>\n",
       "    <tr>\n",
       "      <th>B</th>\n",
       "      <td>3</td>\n",
       "      <td>4</td>\n",
       "    </tr>\n",
       "    <tr>\n",
       "      <th>C</th>\n",
       "      <td>2</td>\n",
       "      <td>3</td>\n",
       "    </tr>\n",
       "    <tr>\n",
       "      <th>D</th>\n",
       "      <td>3</td>\n",
       "      <td>2</td>\n",
       "    </tr>\n",
       "    <tr>\n",
       "      <th>E</th>\n",
       "      <td>1</td>\n",
       "      <td>0</td>\n",
       "    </tr>\n",
       "    <tr>\n",
       "      <th>F</th>\n",
       "      <td>2</td>\n",
       "      <td>3</td>\n",
       "    </tr>\n",
       "  </tbody>\n",
       "</table>\n",
       "</div>"
      ],
      "text/plain": [
       "   X  Y\n",
       "A  1  2\n",
       "B  3  4\n",
       "C  2  3\n",
       "D  3  2\n",
       "E  1  0\n",
       "F  2  3"
      ]
     },
     "execution_count": 53,
     "metadata": {},
     "output_type": "execute_result"
    }
   ],
   "source": [
    "couples = {\n",
    "    'X': [1, 3, 2, 3, 1, 2],\n",
    "    'Y': [2, 4, 3, 2, 0, 3]\n",
    "    }\n",
    "df = pd.DataFrame(couples, index=['A', 'B', 'C', 'D', 'E', 'F'])\n",
    "\n",
    "df"
   ]
  },
  {
   "cell_type": "code",
   "execution_count": 54,
   "metadata": {},
   "outputs": [
    {
     "data": {
      "text/html": [
       "<div>\n",
       "<style scoped>\n",
       "    .dataframe tbody tr th:only-of-type {\n",
       "        vertical-align: middle;\n",
       "    }\n",
       "\n",
       "    .dataframe tbody tr th {\n",
       "        vertical-align: top;\n",
       "    }\n",
       "\n",
       "    .dataframe thead th {\n",
       "        text-align: right;\n",
       "    }\n",
       "</style>\n",
       "<table border=\"1\" class=\"dataframe\">\n",
       "  <thead>\n",
       "    <tr style=\"text-align: right;\">\n",
       "      <th></th>\n",
       "      <th>X</th>\n",
       "      <th>Y</th>\n",
       "    </tr>\n",
       "  </thead>\n",
       "  <tbody>\n",
       "    <tr>\n",
       "      <th>X</th>\n",
       "      <td>1.000000</td>\n",
       "      <td>0.654654</td>\n",
       "    </tr>\n",
       "    <tr>\n",
       "      <th>Y</th>\n",
       "      <td>0.654654</td>\n",
       "      <td>1.000000</td>\n",
       "    </tr>\n",
       "  </tbody>\n",
       "</table>\n",
       "</div>"
      ],
      "text/plain": [
       "          X         Y\n",
       "X  1.000000  0.654654\n",
       "Y  0.654654  1.000000"
      ]
     },
     "execution_count": 54,
     "metadata": {},
     "output_type": "execute_result"
    }
   ],
   "source": [
    "df.corr()"
   ]
  },
  {
   "cell_type": "code",
   "execution_count": 55,
   "metadata": {},
   "outputs": [
    {
     "data": {
      "text/plain": [
       "0.6546536707079771"
      ]
     },
     "execution_count": 55,
     "metadata": {},
     "output_type": "execute_result"
    }
   ],
   "source": [
    "df.corr().loc['X', 'Y']"
   ]
  },
  {
   "cell_type": "code",
   "execution_count": 56,
   "metadata": {},
   "outputs": [
    {
     "data": {
      "text/plain": [
       "0.6546536707079771"
      ]
     },
     "execution_count": 56,
     "metadata": {},
     "output_type": "execute_result"
    }
   ],
   "source": [
    "pearson_r(couples['X'], couples['Y'])"
   ]
  }
 ],
 "metadata": {
  "interpreter": {
   "hash": "949510482b8eeb0db0de64008f8e13a21a90dd06afd7a8e21dd837eed22f74f3"
  },
  "kernelspec": {
   "display_name": "Python 3.9.10 ('base')",
   "language": "python",
   "name": "python3"
  },
  "language_info": {
   "codemirror_mode": {
    "name": "ipython",
    "version": 3
   },
   "file_extension": ".py",
   "mimetype": "text/x-python",
   "name": "python",
   "nbconvert_exporter": "python",
   "pygments_lexer": "ipython3",
   "version": "3.9.10"
  },
  "orig_nbformat": 4
 },
 "nbformat": 4,
 "nbformat_minor": 2
}
