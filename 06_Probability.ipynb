{
 "cells": [
  {
   "cell_type": "markdown",
   "metadata": {},
   "source": [
    "# 06: Probability \n",
    "\n",
    "- Valid generalizations in inferential statistics require either random sampling in the case of surveys or random assignment in the case of experiments. "
   ]
  },
  {
   "cell_type": "markdown",
   "metadata": {},
   "source": [
    "## Population & Sample\n",
    "\n",
    "- **Population**: Any complete set of observations (or potential observations). \n",
    "\n",
    "- **Sample**: Any subset of observations from a population. \n",
    "\n",
    "- **Random Sampling**: A selection process that guarantees all potential observations in the population have an equal chance of being selected. \n",
    "\n",
    "- **Random Assignment**: A procedure designed to ensure that each subject has an equal chance of being assigned to any group in an experiment. \n",
    "\n",
    "- Random sampling occurs in well-designed surveys, and random assignment occurs in well-designed experiments. "
   ]
  },
  {
   "cell_type": "markdown",
   "metadata": {},
   "source": [
    "## Probability \n",
    "\n",
    "- **Probability**: The proportion or fraction of times that a particular event is likely to occur. \n",
    "\n",
    "- **Mutually Exclusive Events**: Events that cannot occur together. \n",
    "\n",
    "- **Addition Rule**: Add together the separate probabilities of several mutually exclusive events to find the probability that any of these events will occur. \n",
    "\n",
    "$$\n",
    "Pr(A \\, or \\, B) = Pr(A) + Pr(B)\n",
    "$$\n",
    "\n",
    "Where $Pr()$ is the probability of the event and $A$ and $B$ are mutually exclusive events. \n",
    "\n",
    "- **Independent Events**: The occurrence of one event has no effect on the probability that the other event will occur. \n",
    "\n",
    "- **Multiplication Rule**: Multiply together the separate probabilities of several independent events to find the probability that these events will occur together. \n",
    "\n",
    "$$\n",
    "Pr(A \\, and \\, B) = [Pr(A)Pr(B)]\n",
    "$$\n",
    "\n",
    "- **Dependent Events**: When the probability of one event affects the probability of another event, these events are dependent. \n",
    "\n",
    "- **Conditional Probability**: The probability of one event, given the occurrence of another event.\n",
    "\n",
    "- Use **Frequency Analysis** to calculate conditional probability. \n",
    "\n",
    "- Probability plays an important role in inferential statistics, including in the important are of *hypothesis testing.*"
   ]
  },
  {
   "cell_type": "code",
   "execution_count": 6,
   "metadata": {},
   "outputs": [],
   "source": [
    "from scipy.stats import norm"
   ]
  },
  {
   "cell_type": "markdown",
   "metadata": {},
   "source": [
    "Probability that a randomly selected z-score will be above 1.96"
   ]
  },
  {
   "cell_type": "code",
   "execution_count": 9,
   "metadata": {},
   "outputs": [
    {
     "data": {
      "text/plain": [
       "0.025"
      ]
     },
     "execution_count": 9,
     "metadata": {},
     "output_type": "execute_result"
    }
   ],
   "source": [
    "round(1 - norm.cdf(1.96), 5)"
   ]
  },
  {
   "cell_type": "markdown",
   "metadata": {},
   "source": [
    "Probability that a randomly selected z-score will be either above 1.96 or below -1.96"
   ]
  },
  {
   "cell_type": "code",
   "execution_count": 13,
   "metadata": {},
   "outputs": [
    {
     "data": {
      "text/plain": [
       "0.05"
      ]
     },
     "execution_count": 13,
     "metadata": {},
     "output_type": "execute_result"
    }
   ],
   "source": [
    "round(1 - norm.cdf(1.96), 5) + round(norm.cdf(-1.96), 5)"
   ]
  },
  {
   "cell_type": "markdown",
   "metadata": {},
   "source": [
    "Probability that a randomly selected z-score will be between 1.96 and 1.96"
   ]
  },
  {
   "cell_type": "code",
   "execution_count": 14,
   "metadata": {},
   "outputs": [
    {
     "data": {
      "text/plain": [
       "0.95"
      ]
     },
     "execution_count": 14,
     "metadata": {},
     "output_type": "execute_result"
    }
   ],
   "source": [
    "round(norm.cdf(1.96) - norm.cdf(-1.96), 5)"
   ]
  },
  {
   "cell_type": "markdown",
   "metadata": {},
   "source": [
    "Probability that a randomly selected z-score will be either above 2.58 or below -2.58"
   ]
  },
  {
   "cell_type": "code",
   "execution_count": 19,
   "metadata": {},
   "outputs": [
    {
     "data": {
      "text/plain": [
       "0.988"
      ]
     },
     "execution_count": 19,
     "metadata": {},
     "output_type": "execute_result"
    }
   ],
   "source": [
    "round(norm.cdf(-2.58), 7)*2*100"
   ]
  },
  {
   "cell_type": "code",
   "execution_count": null,
   "metadata": {},
   "outputs": [],
   "source": []
  }
 ],
 "metadata": {
  "interpreter": {
   "hash": "949510482b8eeb0db0de64008f8e13a21a90dd06afd7a8e21dd837eed22f74f3"
  },
  "kernelspec": {
   "display_name": "Python 3.9.10 ('base')",
   "language": "python",
   "name": "python3"
  },
  "language_info": {
   "codemirror_mode": {
    "name": "ipython",
    "version": 3
   },
   "file_extension": ".py",
   "mimetype": "text/x-python",
   "name": "python",
   "nbconvert_exporter": "python",
   "pygments_lexer": "ipython3",
   "version": "3.9.12"
  },
  "orig_nbformat": 4
 },
 "nbformat": 4,
 "nbformat_minor": 2
}
